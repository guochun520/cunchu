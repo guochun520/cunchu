{
 "cells": [
  {
   "cell_type": "code",
   "execution_count": 35,
   "metadata": {},
   "outputs": [
    {
     "name": "stdout",
     "output_type": "stream",
     "text": [
      "1000\n",
      "1000\n"
     ]
    }
   ],
   "source": [
    "#私有变量\n",
    "class A(object):\n",
    "    def __init__(self):\n",
    "        self.__a=1000\n",
    "    def B(self):\n",
    "        print(self.__a)\n",
    "        return(self.__a)#内部调用\n",
    "#A_是变量名，可随意设定        \n",
    "A_=A()\n",
    "#print(A_.__a)#私有的外部不可调用\n",
    "print(A_.B())"
   ]
  },
  {
   "cell_type": "code",
   "execution_count": 5,
   "metadata": {},
   "outputs": [
    {
     "name": "stdout",
     "output_type": "stream",
     "text": [
      "请输入邮箱进行注册：0987\n",
      "您的邮箱为： 0987 @qq.com\n",
      "请输入密码890\n",
      "您输入的密码为： 890\n",
      "请确认您的密码89\n",
      "您输入的密码为： 89\n",
      "您输入的密码不一致，请重新输入890\n",
      "您输入的密码为： 890\n",
      "请确认您的密码890\n",
      "您输入的密码为： 890\n",
      "密码设置成功\n"
     ]
    }
   ],
   "source": [
    "#邮箱注册\n",
    "import random\n",
    "class zhuce(object):\n",
    "    def youxiang(self):\n",
    "        zhanghao=input(\"请输入邮箱进行注册：\")\n",
    "        print(\"您的邮箱为：\",zhanghao,\"@qq.com\")\n",
    "    def mima1(self):\n",
    "        self.mi=input(\"请输入密码\")\n",
    "        print(\"您输入的密码为：\",self.mi)\n",
    "    def mima2(self):\n",
    "        self.ma=input(\"请确认您的密码\")\n",
    "        print(\"您输入的密码为：\",self.ma)\n",
    "        if self.mi==self.ma:\n",
    "            print(\"密码设置成功\")\n",
    "        else:\n",
    "            self.ma=input(\"您输入的密码不一致，请重新输入\")\n",
    "            print(\"您输入的密码为：\",self.ma)\n",
    "            self.mima2()\n",
    "            \n",
    "            \n",
    "            \n",
    "a=zhuce()\n",
    "a.youxiang()\n",
    "a.mima1()\n",
    "a.mima2()"
   ]
  },
  {
   "cell_type": "code",
   "execution_count": 4,
   "metadata": {},
   "outputs": [
    {
     "name": "stdout",
     "output_type": "stream",
     "text": [
      "请输入邮箱86087\n",
      "您输入的邮箱是：86087\n",
      "请输入您的密码890\n",
      "请确认您的密码89\n",
      "两次密码不一致\n",
      "请输入您的密码89\n",
      "请确认您的密码890\n",
      "两次密码不一致\n",
      "请输入您的密码890\n",
      "请确认您的密码890\n",
      "密码设置成功\n",
      "你获取的验证码时：7214\n",
      "请输入您的验证码721\n",
      "验证码错误\n",
      "你获取的验证码时：9926\n",
      "请输入您的验证码9926\n",
      "注册成功\n",
      "你获取的验证码时：5780\n",
      "请输入您的验证码5780\n",
      "注册成功\n",
      "您可能是机器人，请不要搞破坏\n"
     ]
    }
   ],
   "source": [
    "#在163注册\n",
    "import random\n",
    "class Regist(object):\n",
    "    \n",
    "    def account(self):\n",
    "        #input返回出来的是一个字符串\n",
    "        email=input(\"请输入邮箱\")\n",
    "        print(\"您输入的邮箱是：%s\"%email)\n",
    "        self.password()#调用pssword\n",
    "    def password(self):\n",
    "        #密码长度6-20\n",
    "        #密码区分大小写\n",
    "        #不一定能用到的变量用_表示\n",
    "        for _ in range(4):\n",
    "            password1=input(\"请输入您的密码\")\n",
    "            password2=input(\"请确认您的密码\")\n",
    "            if password1==password2:\n",
    "                print(\"密码设置成功\")\n",
    "                self.verfily()#调用verfily\n",
    "                break\n",
    "            else:\n",
    "                print(\"两次密码不一致\")\n",
    "        else:\n",
    "            print(\"您可能是一个机器人，请不要搞破坏\")\n",
    "    def verfily(self):\n",
    "        #验证码是英文和数字的结合\n",
    "        #一个简单的数学计算\n",
    "        for i in range(3):\n",
    "            number=random.randrange(1000,9999)\n",
    "            print(\"你获取的验证码时：%d\"%number)\n",
    "            number1=input(\"请输入您的验证码\")\n",
    "            if number==int(number1):\n",
    "                print(\"注册成功\")\n",
    "            else:\n",
    "                print(\"验证码错误\")\n",
    "        else:\n",
    "            print(\"您可能是机器人，请不要搞破坏\")   \n",
    "#定义一个主函数，控制脚本的启动     \n",
    "def main():      \n",
    "    #实例\n",
    "    regist=Regist()\n",
    "    regist.account()\n",
    "    #为了避免密码错误时启动下一步\n",
    "    #regist.password()\n",
    "    #regist.verfily()\n",
    "main()"
   ]
  },
  {
   "cell_type": "code",
   "execution_count": null,
   "metadata": {},
   "outputs": [],
   "source": []
  },
  {
   "cell_type": "code",
   "execution_count": 26,
   "metadata": {},
   "outputs": [
    {
     "name": "stdout",
     "output_type": "stream",
     "text": [
      "6\n"
     ]
    }
   ],
   "source": [
    "#三个数字（私有），求三个数字的和，尝试更改其中两个数字\n",
    "class Qiuhe(object):\n",
    "    def __init__(self,num1,num2,num3):\n",
    "        self.__num1=num1\n",
    "        self.__num2=num2\n",
    "        self.__num3=num3\n",
    "    @property#访问器\n",
    "    def num1(self):\n",
    "        print(self.__num1)\n",
    "    @num1.setter#修改器\n",
    "    def num1(self,num):\n",
    "        self.__num1=num\n",
    "    def add(self):\n",
    "        print(self.__num1+self.__num2+self.__num3)\n",
    "        \n",
    "n=Qiuhe(1,2,3)\n",
    "n.add()"
   ]
  },
  {
   "cell_type": "code",
   "execution_count": 42,
   "metadata": {},
   "outputs": [
    {
     "name": "stdout",
     "output_type": "stream",
     "text": [
      "小猫 最爱 吃鱼\n",
      "祝你天天有肉吃，越来越可爱\n"
     ]
    }
   ],
   "source": [
    "#创建隐私空间，默认只能查看，当输入密码正确是，可被修改\n",
    "class yinsi(object):\n",
    "    def __init__(self):\n",
    "        self.kongjian=\"小猫 最爱 吃鱼\"\n",
    "        self.mima=\"123456\"\n",
    "        \n",
    "        @property\n",
    "        def kongjian(self):\n",
    "            #reture和print都可以，若用return，知识换一个地方打印而已\n",
    "            return self.__kongjian\n",
    "            \n",
    "        @kongjian.setter\n",
    "        def kongjian(self,jian):\n",
    "            self.__kongjian=jian\n",
    "        def look():\n",
    "            n=yinsi()\n",
    "            print(n.kongjian)\n",
    "        def change(password):\n",
    "            if password==\"123456\":\n",
    "                n=yinsi()\n",
    "                n.kongjian=kongjian\n",
    "                print(n.kongjian)\n",
    "            else:\n",
    "                print(\"密码错误\")\n",
    "                \n",
    "        #change(\"123456\",\"hahahahaha\")\n",
    "            \n",
    "            \n",
    "n=yinsi()\n",
    "print(n.kongjian)\n",
    "n.kongjian=\"祝你天天有肉吃，越来越可爱\"\n",
    "print(n.kongjian)\n",
    "        "
   ]
  },
  {
   "cell_type": "code",
   "execution_count": 36,
   "metadata": {},
   "outputs": [
    {
     "name": "stdout",
     "output_type": "stream",
     "text": [
      "1000000\n",
      "1000000\n"
     ]
    }
   ],
   "source": [
    "#在python中类是动态的\n",
    "class Num(object):\n",
    "    def __init__(self):\n",
    "        self.a=100\n",
    "    def A(self):\n",
    "        print(self.b)\n",
    "num=Num()\n",
    "num.b=1000000\n",
    "print(num.b)\n",
    "num.A()"
   ]
  },
  {
   "cell_type": "code",
   "execution_count": 37,
   "metadata": {},
   "outputs": [
    {
     "name": "stdout",
     "output_type": "stream",
     "text": [
      "1000000\n"
     ]
    }
   ],
   "source": [
    "#__init__魔法\n",
    "class Num(object):\n",
    "    __slots__=(\"a\",\"b\")\n",
    "    def __init__(self):\n",
    "        self.a=1000\n",
    "num=Num()\n",
    "num.b=1000000\n",
    "print(num.b)"
   ]
  },
  {
   "cell_type": "code",
   "execution_count": null,
   "metadata": {},
   "outputs": [],
   "source": []
  },
  {
   "cell_type": "code",
   "execution_count": null,
   "metadata": {},
   "outputs": [],
   "source": []
  },
  {
   "cell_type": "code",
   "execution_count": null,
   "metadata": {},
   "outputs": [],
   "source": []
  },
  {
   "cell_type": "code",
   "execution_count": null,
   "metadata": {},
   "outputs": [],
   "source": []
  },
  {
   "cell_type": "code",
   "execution_count": null,
   "metadata": {},
   "outputs": [],
   "source": []
  },
  {
   "cell_type": "code",
   "execution_count": null,
   "metadata": {},
   "outputs": [],
   "source": []
  },
  {
   "cell_type": "code",
   "execution_count": null,
   "metadata": {},
   "outputs": [],
   "source": []
  },
  {
   "cell_type": "code",
   "execution_count": null,
   "metadata": {},
   "outputs": [],
   "source": []
  },
  {
   "cell_type": "code",
   "execution_count": null,
   "metadata": {},
   "outputs": [],
   "source": []
  },
  {
   "cell_type": "code",
   "execution_count": null,
   "metadata": {},
   "outputs": [],
   "source": []
  },
  {
   "cell_type": "code",
   "execution_count": null,
   "metadata": {},
   "outputs": [],
   "source": []
  },
  {
   "cell_type": "code",
   "execution_count": null,
   "metadata": {},
   "outputs": [],
   "source": []
  }
 ],
 "metadata": {
  "kernelspec": {
   "display_name": "Python 3",
   "language": "python",
   "name": "python3"
  },
  "language_info": {
   "codemirror_mode": {
    "name": "ipython",
    "version": 3
   },
   "file_extension": ".py",
   "mimetype": "text/x-python",
   "name": "python",
   "nbconvert_exporter": "python",
   "pygments_lexer": "ipython3",
   "version": "3.7.3"
  }
 },
 "nbformat": 4,
 "nbformat_minor": 2
}
