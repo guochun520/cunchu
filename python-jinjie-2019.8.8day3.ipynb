{
 "cells": [
  {
   "cell_type": "code",
   "execution_count": 2,
   "metadata": {},
   "outputs": [
    {
     "name": "stdout",
     "output_type": "stream",
     "text": [
      "a\n"
     ]
    }
   ],
   "source": [
    "class A(object):\n",
    "    def a(self):\n",
    "        print(\"a\")\n",
    "#用实例调用\n",
    "a1=A()\n",
    "a1.a()"
   ]
  },
  {
   "cell_type": "code",
   "execution_count": 30,
   "metadata": {},
   "outputs": [
    {
     "name": "stdout",
     "output_type": "stream",
     "text": [
      "a\n"
     ]
    }
   ],
   "source": [
    "class A(object):\n",
    "    #静态调用，可直接用类调用函数\n",
    "    @staticmethod\n",
    "    #a不属于A这个类，但可以用@staticmethod调用\n",
    "    def a():\n",
    "        print(\"a\")\n",
    "        \n",
    "A.a()"
   ]
  },
  {
   "cell_type": "code",
   "execution_count": 32,
   "metadata": {},
   "outputs": [
    {
     "name": "stdout",
     "output_type": "stream",
     "text": [
      "<__main__.A object at 0x000002EB4761CDA0>\n",
      "<__main__.A object at 0x000002EB4761C940>\n"
     ]
    }
   ],
   "source": [
    "class A(object):\n",
    "    def __init__(self):\n",
    "        self.joker=100\n",
    "        \n",
    "    @classmethod\n",
    "    def a(cls):\n",
    "        return cls()\n",
    "    \n",
    "#不需要创建A的实例，可直接用A调用a\n",
    "joker=A.a()\n",
    "print(joker)\n",
    "joker2=A()\n",
    "print(joker2)"
   ]
  },
  {
   "cell_type": "code",
   "execution_count": 12,
   "metadata": {},
   "outputs": [
    {
     "name": "stdout",
     "output_type": "stream",
     "text": [
      "16\n"
     ]
    }
   ],
   "source": [
    "#输入四条边，若是正方形，计算面积，不是返回false\n",
    "class zfx(object):\n",
    "    def __init__(self,a,b,c,d,):\n",
    "        self.a=a\n",
    "        self.b=b\n",
    "        self.c=c\n",
    "        self.d=d\n",
    "    @staticmethod\n",
    "    def is_valid(a,b,c,d):\n",
    "        for i in [b,c,d]:\n",
    "            if i != a:\n",
    "                return Flase\n",
    "            else:\n",
    "                return True\n",
    "    def area(self):\n",
    "        if res==True:\n",
    "            area_=self.a*self.b\n",
    "            return area_\n",
    "def main():     \n",
    "    a=zfx(4,4,4,4)\n",
    "    res=zfx.is_valid(4,4,4,4)\n",
    "    a.area()\n",
    "    if res==True:\n",
    "        print(a.area())\n",
    "main()"
   ]
  },
  {
   "cell_type": "code",
   "execution_count": 13,
   "metadata": {},
   "outputs": [
    {
     "name": "stdout",
     "output_type": "stream",
     "text": [
      "joker\n"
     ]
    }
   ],
   "source": [
    "#默认参数,不提供其他数据时，显示默认值\n",
    "def A(huwang=\"joker\"):\n",
    "    print(huwang)\n",
    "    \n",
    "A()"
   ]
  },
  {
   "cell_type": "code",
   "execution_count": 33,
   "metadata": {},
   "outputs": [
    {
     "name": "stdout",
     "output_type": "stream",
     "text": [
      "100\n",
      "A1\n"
     ]
    }
   ],
   "source": [
    "#继承\n",
    "class A(object):\n",
    "    def __init__(self):\n",
    "        self.a=100\n",
    "        #self.a1=a1\n",
    "    \n",
    "    def A1(self):\n",
    "        print(\"A1\")\n",
    "        \n",
    "#继承的第一步：在类名中写上继承的类名\n",
    "class B(A):\n",
    "    #第一个init是B自身的\n",
    "    def __init__(self):\n",
    "        #第二个init是A的\n",
    "        A.__init__(self)\n",
    "        self.b=200\n",
    "        #self.b1=b1\n",
    "    def B1(self):\n",
    "        print(\"B1\")\n",
    "#继承，一定是子类来调用\n",
    "b_=B()\n",
    "\n",
    "print(b_.a)\n",
    "b_.A1()"
   ]
  },
  {
   "cell_type": "code",
   "execution_count": 27,
   "metadata": {},
   "outputs": [
    {
     "name": "stdout",
     "output_type": "stream",
     "text": [
      "3\n"
     ]
    }
   ],
   "source": [
    "#：创建一个父类，一个子类\n",
    "#父类计算两个数字的和记为SUM_\n",
    "#子类打印SUM_\n",
    "class fulei(object):\n",
    "    def __init__(self):\n",
    "        self.a=1\n",
    "        self.a1=2\n",
    "    def sum_(self):\n",
    "        SUM_=self.a+self.a1\n",
    "        return SUM_\n",
    "    \n",
    "class zilei(fulei):\n",
    "    #这个init是子类自身的\n",
    "    def __init__(self):\n",
    "        fulei.__init__(self)\n",
    "    def xianshi(self):\n",
    "        res=self.sum_()\n",
    "        print(res)\n",
    "        \n",
    "b=zilei()\n",
    "b.xianshi()"
   ]
  },
  {
   "cell_type": "code",
   "execution_count": 34,
   "metadata": {},
   "outputs": [
    {
     "name": "stdout",
     "output_type": "stream",
     "text": [
      "1001\n"
     ]
    }
   ],
   "source": [
    "#带参数的继承\n",
    "class fulei(object):\n",
    "    def __init__(self,a1):\n",
    "        self.a=1\n",
    "        self.a1=a1\n",
    "    def sum_(self):\n",
    "        SUM_=self.a+self.a1\n",
    "        return SUM_\n",
    "    \n",
    "class zilei(fulei):\n",
    "    #这个init是子类自身的\n",
    "    def __init__(self,a1,b1):\n",
    "        self.b1=b1\n",
    "        fulei.__init__(self,a1)\n",
    "    def xianshi(self):\n",
    "        res=self.sum_()\n",
    "        print(res)\n",
    "        \n",
    "b=zilei(1000,100)#100是b1的，用不到\n",
    "b.xianshi()"
   ]
  },
  {
   "cell_type": "code",
   "execution_count": 34,
   "metadata": {},
   "outputs": [
    {
     "name": "stdout",
     "output_type": "stream",
     "text": [
      "[0, 1, 2, 3, 4, 5, 6, 7, 8, 9, 10, 11, 12, 13, 14, 15, 16, 17, 18, 19, 20, 21, 22, 23, 24, 25, 26, 27, 28, 29, 30, 31, 32, 33, 34, 35, 36, 37, 38, 39, 40, 41, 42, 43, 44, 45, 46, 47, 48, 49, 50, 51, 52, 53, 54, 55, 56, 57, 58, 59, 60, 61, 62, 63, 64, 65, 66, 67, 68, 69, 70, 71, 72, 73, 74, 75, 76, 77, 78, 79, 80, 81, 82, 83, 84, 85, 86, 87, 88, 89, 90, 91, 92, 93, 94, 95, 96, 97, 98, 99]\n"
     ]
    }
   ],
   "source": [
    "#列表生成式\n",
    "a=[x for x in range(100)]\n",
    "print (a)"
   ]
  },
  {
   "cell_type": "code",
   "execution_count": 35,
   "metadata": {
    "scrolled": true
   },
   "outputs": [
    {
     "name": "stdout",
     "output_type": "stream",
     "text": [
      "0\n"
     ]
    }
   ],
   "source": [
    "#生成器\n",
    "a=(x for x in range(100))\n",
    "print (next(a))"
   ]
  },
  {
   "cell_type": "code",
   "execution_count": 1,
   "metadata": {},
   "outputs": [
    {
     "name": "stdout",
     "output_type": "stream",
     "text": [
      "0\n",
      "1\n",
      "2\n",
      "3\n",
      "4\n",
      "5\n",
      "6\n",
      "7\n",
      "8\n",
      "9\n",
      "10\n",
      "11\n",
      "12\n",
      "13\n",
      "14\n",
      "15\n",
      "16\n",
      "17\n",
      "18\n",
      "19\n",
      "20\n",
      "21\n",
      "22\n",
      "23\n",
      "24\n",
      "25\n",
      "26\n",
      "27\n",
      "28\n",
      "29\n",
      "30\n",
      "31\n",
      "32\n",
      "33\n",
      "34\n",
      "35\n",
      "36\n",
      "37\n",
      "38\n",
      "39\n",
      "40\n",
      "41\n",
      "42\n",
      "43\n",
      "44\n",
      "45\n",
      "46\n",
      "47\n",
      "48\n",
      "49\n",
      "50\n",
      "51\n",
      "52\n",
      "53\n",
      "54\n",
      "55\n",
      "56\n",
      "57\n",
      "58\n",
      "59\n",
      "60\n",
      "61\n",
      "62\n",
      "63\n",
      "64\n",
      "65\n",
      "66\n",
      "67\n",
      "68\n",
      "69\n",
      "70\n",
      "71\n",
      "72\n",
      "73\n",
      "74\n",
      "75\n",
      "76\n",
      "77\n",
      "78\n",
      "79\n",
      "80\n",
      "81\n",
      "82\n",
      "83\n",
      "84\n",
      "85\n",
      "86\n",
      "87\n",
      "88\n",
      "89\n",
      "90\n",
      "91\n",
      "92\n",
      "93\n",
      "94\n",
      "95\n",
      "96\n",
      "97\n",
      "98\n",
      "99\n"
     ]
    }
   ],
   "source": [
    "#一次性全部取出\n",
    "a=(x for x in range(100))\n",
    "for i in range(100):\n",
    "    print(next(a))"
   ]
  },
  {
   "cell_type": "code",
   "execution_count": 1,
   "metadata": {},
   "outputs": [
    {
     "name": "stdout",
     "output_type": "stream",
     "text": [
      "<function foo.<locals>.bar at 0x0000024B3AC37E18>\n"
     ]
    }
   ],
   "source": [
    "#函数闭包\n",
    "def foo():\n",
    "    def bar():#这个函数不走，因为函数要用括号调用\n",
    "        return \"hello\"\n",
    "    return bar\n",
    "\n",
    "f1=foo()\n",
    "print(f1)\n",
    "#输出是foo里一个局部的函数bar"
   ]
  },
  {
   "cell_type": "code",
   "execution_count": 2,
   "metadata": {},
   "outputs": [
    {
     "name": "stdout",
     "output_type": "stream",
     "text": [
      "hello\n"
     ]
    }
   ],
   "source": [
    "def foo():\n",
    "    def bar():\n",
    "        return \"hello\"\n",
    "    return bar\n",
    "\n",
    "f1=foo()\n",
    "print(f1())"
   ]
  },
  {
   "cell_type": "code",
   "execution_count": 4,
   "metadata": {},
   "outputs": [
    {
     "name": "stdout",
     "output_type": "stream",
     "text": [
      "hello\n"
     ]
    }
   ],
   "source": [
    "#闭包\n",
    "def foo():\n",
    "    def bar():\n",
    "        return \"hello\"\n",
    "    return bar()\n",
    "\n",
    "f1=foo()\n",
    "print(f1)"
   ]
  },
  {
   "cell_type": "code",
   "execution_count": 5,
   "metadata": {},
   "outputs": [
    {
     "name": "stdout",
     "output_type": "stream",
     "text": [
      "[1]\n"
     ]
    }
   ],
   "source": [
    "#带参数闭包\n",
    "def foo():\n",
    "    l=[]\n",
    "    def bar(i):\n",
    "        l.append(i)\n",
    "        return l\n",
    "    return bar\n",
    "\n",
    "f1=foo()\n",
    "res1=f1(1)#括号里的参数就是定义给i的\n",
    "print(res1)"
   ]
  },
  {
   "cell_type": "code",
   "execution_count": 7,
   "metadata": {},
   "outputs": [
    {
     "name": "stdout",
     "output_type": "stream",
     "text": [
      "[1]\n",
      "[1, 2]\n"
     ]
    }
   ],
   "source": [
    "def foo():\n",
    "    l=[]\n",
    "    def bar(i):\n",
    "        l.append(i)\n",
    "        return l\n",
    "    return bar\n",
    "\n",
    "f1=foo()\n",
    "res1=f1(1)\n",
    "print(res1)\n",
    "#走完上面，未清空foo直接走下面\n",
    "res2=f1(2)\n",
    "print(res2)"
   ]
  },
  {
   "cell_type": "code",
   "execution_count": 8,
   "metadata": {},
   "outputs": [
    {
     "name": "stdout",
     "output_type": "stream",
     "text": [
      "[1]\n",
      "[2]\n"
     ]
    }
   ],
   "source": [
    "def foo():\n",
    "    l=[]\n",
    "    def bar(i):\n",
    "        l.append(i)\n",
    "        return l\n",
    "    return bar\n",
    "\n",
    "f1=foo()\n",
    "res1=f1(1)\n",
    "print(res1)\n",
    "#走完上面，清空foo列表，再进行下面\n",
    "f1=foo()\n",
    "res2=f1(2)\n",
    "print(res2)"
   ]
  },
  {
   "cell_type": "code",
   "execution_count": null,
   "metadata": {},
   "outputs": [],
   "source": []
  },
  {
   "cell_type": "code",
   "execution_count": 37,
   "metadata": {},
   "outputs": [
    {
     "name": "stdout",
     "output_type": "stream",
     "text": [
      "hello\n"
     ]
    }
   ],
   "source": [
    "#装饰器\n",
    "def deco(func):\n",
    "    def wrap():\n",
    "        return func()\n",
    "    return wrap\n",
    "@deco\n",
    "def joker():\n",
    "    print(\"hello\")\n",
    "joker()"
   ]
  },
  {
   "cell_type": "code",
   "execution_count": 38,
   "metadata": {},
   "outputs": [
    {
     "name": "stdout",
     "output_type": "stream",
     "text": [
      "joker\n",
      "hello huwang\n"
     ]
    }
   ],
   "source": [
    "#带参数的装饰器\n",
    "def deco(func):\n",
    "    def warp(H):\n",
    "        print(\"joker\")\n",
    "        return func(H)\n",
    "    return warp\n",
    "@deco\n",
    "def joker(name):\n",
    "    print(\"hello %s\"%name)\n",
    "joker(\"huwang\")"
   ]
  },
  {
   "cell_type": "code",
   "execution_count": null,
   "metadata": {},
   "outputs": [],
   "source": []
  },
  {
   "cell_type": "code",
   "execution_count": 16,
   "metadata": {
    "scrolled": true
   },
   "outputs": [
    {
     "name": "stdout",
     "output_type": "stream",
     "text": [
      "num1+num2= 30\n",
      "10 20\n",
      "num1+num2= 3\n"
     ]
    }
   ],
   "source": [
    "#创建一个装饰器，三个函数（每个函数有两个参数）\n",
    "#装饰器处理这两个函数的和并打印\n",
    "#每个函数打印着两个参数\n",
    "def deco(func):\n",
    "    def warp(num1,num2):\n",
    "        print(\"num1+num2=\",num1+num2)\n",
    "        return func(num1,num2)\n",
    "    return warp#不返回这个，装饰器没办法走\n",
    "\n",
    "#这一块是函数本身\n",
    "@deco\n",
    "def SUM(num1,num2):\n",
    "    print(num1,num2)\n",
    "    \n",
    "@deco#只求和，不打印参数\n",
    "def SUM2(num1,num2):\n",
    "    pass\n",
    "    \n",
    "SUM(10,20)\n",
    "SUM2(1,2)\n"
   ]
  },
  {
   "cell_type": "code",
   "execution_count": 23,
   "metadata": {},
   "outputs": [
    {
     "name": "stdout",
     "output_type": "stream",
     "text": [
      "5 4 None\n",
      "20\n"
     ]
    }
   ],
   "source": [
    "#装饰器将前两个数字求和，函数本身第三个参数乘上这个和\n",
    "def deco(func):\n",
    "    def warp(n1,n2,n3):#2,3,4被这里劫走\n",
    "        num=n1+n2\n",
    "        return func(num,n3)\n",
    "    return warp#不返回这个，装饰器没办法走\n",
    "\n",
    "#这一块是函数本身\n",
    "@deco\n",
    "def SUM(num1,num2,num3=None):\n",
    "    print(num1,num2,num3)\n",
    "    print(num1*num2)\n",
    "    \n",
    "SUM(2,3,4)"
   ]
  },
  {
   "cell_type": "code",
   "execution_count": null,
   "metadata": {},
   "outputs": [],
   "source": []
  },
  {
   "cell_type": "code",
   "execution_count": null,
   "metadata": {},
   "outputs": [],
   "source": []
  },
  {
   "cell_type": "code",
   "execution_count": null,
   "metadata": {},
   "outputs": [],
   "source": []
  },
  {
   "cell_type": "code",
   "execution_count": null,
   "metadata": {},
   "outputs": [],
   "source": []
  },
  {
   "cell_type": "code",
   "execution_count": null,
   "metadata": {},
   "outputs": [],
   "source": []
  },
  {
   "cell_type": "code",
   "execution_count": null,
   "metadata": {},
   "outputs": [],
   "source": []
  },
  {
   "cell_type": "code",
   "execution_count": null,
   "metadata": {},
   "outputs": [],
   "source": []
  },
  {
   "cell_type": "code",
   "execution_count": null,
   "metadata": {},
   "outputs": [],
   "source": []
  },
  {
   "cell_type": "code",
   "execution_count": null,
   "metadata": {},
   "outputs": [],
   "source": []
  },
  {
   "cell_type": "code",
   "execution_count": null,
   "metadata": {},
   "outputs": [],
   "source": []
  },
  {
   "cell_type": "code",
   "execution_count": null,
   "metadata": {},
   "outputs": [],
   "source": []
  },
  {
   "cell_type": "code",
   "execution_count": null,
   "metadata": {},
   "outputs": [],
   "source": []
  }
 ],
 "metadata": {
  "kernelspec": {
   "display_name": "Python 3",
   "language": "python",
   "name": "python3"
  },
  "language_info": {
   "codemirror_mode": {
    "name": "ipython",
    "version": 3
   },
   "file_extension": ".py",
   "mimetype": "text/x-python",
   "name": "python",
   "nbconvert_exporter": "python",
   "pygments_lexer": "ipython3",
   "version": "3.7.3"
  }
 },
 "nbformat": 4,
 "nbformat_minor": 2
}
