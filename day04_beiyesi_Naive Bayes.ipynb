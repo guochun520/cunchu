{
 "cells": [
  {
   "cell_type": "code",
   "execution_count": 1,
   "metadata": {},
   "outputs": [],
   "source": [
    "import numpy as np\n",
    "import pandas as pd\n"
   ]
  },
  {
   "cell_type": "code",
   "execution_count": 2,
   "metadata": {},
   "outputs": [],
   "source": [
    "def LoadData_():\n",
    "    \"\"\"\n",
    "    Load data set \n",
    "    \n",
    "    Return:\n",
    "    ------\n",
    "        data: DataFrame.\n",
    "        \n",
    "    Note:\n",
    "    ----\n",
    "        last column: labels\n",
    "    \"\"\"\n",
    "    datasets = np.array([[1,1,1,1,1,2,2,2,2,2,3,3,3,3,3],\n",
    "                  ['S','M','M','S','S','S','M','M','L','L','L','M','M','L','L'],\n",
    "                  [-1,-1,1,1,-1,-1,-1,1,1,1,1,1,1,1,-1]]).T   ####  str(字符串)>float（浮点）>int（整形）\n",
    "    columns = np.array(['X1','X2','Y'])\n",
    "\n",
    "    data = pd.DataFrame(data=datasets,columns=columns)\n",
    "    return data"
   ]
  },
  {
   "cell_type": "code",
   "execution_count": 3,
   "metadata": {},
   "outputs": [],
   "source": [
    "data = LoadData_()"
   ]
  },
  {
   "cell_type": "code",
   "execution_count": 4,
   "metadata": {},
   "outputs": [
    {
     "data": {
      "text/html": [
       "<div>\n",
       "<style scoped>\n",
       "    .dataframe tbody tr th:only-of-type {\n",
       "        vertical-align: middle;\n",
       "    }\n",
       "\n",
       "    .dataframe tbody tr th {\n",
       "        vertical-align: top;\n",
       "    }\n",
       "\n",
       "    .dataframe thead th {\n",
       "        text-align: right;\n",
       "    }\n",
       "</style>\n",
       "<table border=\"1\" class=\"dataframe\">\n",
       "  <thead>\n",
       "    <tr style=\"text-align: right;\">\n",
       "      <th></th>\n",
       "      <th>X1</th>\n",
       "      <th>X2</th>\n",
       "      <th>Y</th>\n",
       "    </tr>\n",
       "  </thead>\n",
       "  <tbody>\n",
       "    <tr>\n",
       "      <th>0</th>\n",
       "      <td>1</td>\n",
       "      <td>S</td>\n",
       "      <td>-1</td>\n",
       "    </tr>\n",
       "    <tr>\n",
       "      <th>1</th>\n",
       "      <td>1</td>\n",
       "      <td>M</td>\n",
       "      <td>-1</td>\n",
       "    </tr>\n",
       "    <tr>\n",
       "      <th>2</th>\n",
       "      <td>1</td>\n",
       "      <td>M</td>\n",
       "      <td>1</td>\n",
       "    </tr>\n",
       "    <tr>\n",
       "      <th>3</th>\n",
       "      <td>1</td>\n",
       "      <td>S</td>\n",
       "      <td>1</td>\n",
       "    </tr>\n",
       "    <tr>\n",
       "      <th>4</th>\n",
       "      <td>1</td>\n",
       "      <td>S</td>\n",
       "      <td>-1</td>\n",
       "    </tr>\n",
       "    <tr>\n",
       "      <th>5</th>\n",
       "      <td>2</td>\n",
       "      <td>S</td>\n",
       "      <td>-1</td>\n",
       "    </tr>\n",
       "    <tr>\n",
       "      <th>6</th>\n",
       "      <td>2</td>\n",
       "      <td>M</td>\n",
       "      <td>-1</td>\n",
       "    </tr>\n",
       "    <tr>\n",
       "      <th>7</th>\n",
       "      <td>2</td>\n",
       "      <td>M</td>\n",
       "      <td>1</td>\n",
       "    </tr>\n",
       "    <tr>\n",
       "      <th>8</th>\n",
       "      <td>2</td>\n",
       "      <td>L</td>\n",
       "      <td>1</td>\n",
       "    </tr>\n",
       "    <tr>\n",
       "      <th>9</th>\n",
       "      <td>2</td>\n",
       "      <td>L</td>\n",
       "      <td>1</td>\n",
       "    </tr>\n",
       "    <tr>\n",
       "      <th>10</th>\n",
       "      <td>3</td>\n",
       "      <td>L</td>\n",
       "      <td>1</td>\n",
       "    </tr>\n",
       "    <tr>\n",
       "      <th>11</th>\n",
       "      <td>3</td>\n",
       "      <td>M</td>\n",
       "      <td>1</td>\n",
       "    </tr>\n",
       "    <tr>\n",
       "      <th>12</th>\n",
       "      <td>3</td>\n",
       "      <td>M</td>\n",
       "      <td>1</td>\n",
       "    </tr>\n",
       "    <tr>\n",
       "      <th>13</th>\n",
       "      <td>3</td>\n",
       "      <td>L</td>\n",
       "      <td>1</td>\n",
       "    </tr>\n",
       "    <tr>\n",
       "      <th>14</th>\n",
       "      <td>3</td>\n",
       "      <td>L</td>\n",
       "      <td>-1</td>\n",
       "    </tr>\n",
       "  </tbody>\n",
       "</table>\n",
       "</div>"
      ],
      "text/plain": [
       "   X1 X2   Y\n",
       "0   1  S  -1\n",
       "1   1  M  -1\n",
       "2   1  M   1\n",
       "3   1  S   1\n",
       "4   1  S  -1\n",
       "5   2  S  -1\n",
       "6   2  M  -1\n",
       "7   2  M   1\n",
       "8   2  L   1\n",
       "9   2  L   1\n",
       "10  3  L   1\n",
       "11  3  M   1\n",
       "12  3  M   1\n",
       "13  3  L   1\n",
       "14  3  L  -1"
      ]
     },
     "execution_count": 4,
     "metadata": {},
     "output_type": "execute_result"
    }
   ],
   "source": [
    "data"
   ]
  },
  {
   "cell_type": "code",
   "execution_count": 5,
   "metadata": {},
   "outputs": [
    {
     "data": {
      "text/plain": [
       "0.6"
      ]
     },
     "execution_count": 5,
     "metadata": {},
     "output_type": "execute_result"
    }
   ],
   "source": [
    "P_y_1 = (data.iloc[:,-1] == \"1\").sum() / data.index.size  ###  P(y=1)\n",
    "P_y_1"
   ]
  },
  {
   "cell_type": "code",
   "execution_count": 6,
   "metadata": {},
   "outputs": [
    {
     "data": {
      "text/plain": [
       "0.1111111111111111"
      ]
     },
     "execution_count": 6,
     "metadata": {},
     "output_type": "execute_result"
    }
   ],
   "source": [
    "a = data[data.iloc[:,-1] == \"1\"]\n",
    "b = a.index.size\n",
    "(a[\"X1\"] ==\"2\").sum() / b\n",
    "(a[\"X2\"] ==\"S\").sum() / b"
   ]
  },
  {
   "cell_type": "code",
   "execution_count": 7,
   "metadata": {},
   "outputs": [
    {
     "data": {
      "text/plain": [
       "0.02222222222222222"
      ]
     },
     "execution_count": 7,
     "metadata": {},
     "output_type": "execute_result"
    }
   ],
   "source": [
    "p_1=P_y_1 * (a[\"X1\"] ==\"2\").sum() / b * (a[\"X2\"] ==\"S\").sum() / b\n",
    "p_1"
   ]
  },
  {
   "cell_type": "code",
   "execution_count": 8,
   "metadata": {},
   "outputs": [
    {
     "data": {
      "text/plain": [
       "-3.80666248977032"
      ]
     },
     "execution_count": 8,
     "metadata": {},
     "output_type": "execute_result"
    }
   ],
   "source": [
    "np.log(p_1)"
   ]
  },
  {
   "cell_type": "code",
   "execution_count": null,
   "metadata": {},
   "outputs": [],
   "source": []
  },
  {
   "cell_type": "code",
   "execution_count": 9,
   "metadata": {},
   "outputs": [
    {
     "data": {
      "text/plain": [
       "0.4"
      ]
     },
     "execution_count": 9,
     "metadata": {},
     "output_type": "execute_result"
    }
   ],
   "source": [
    "P_y_2 = (data.iloc[:,-1] == \"-1\").sum() / data.index.size\n",
    "P_y_2"
   ]
  },
  {
   "cell_type": "code",
   "execution_count": 10,
   "metadata": {},
   "outputs": [
    {
     "data": {
      "text/plain": [
       "0.5"
      ]
     },
     "execution_count": 10,
     "metadata": {},
     "output_type": "execute_result"
    }
   ],
   "source": [
    "a = data[data.iloc[:,-1] == \"-1\"]\n",
    "b = a.index.size\n",
    "(a[\"X1\"] ==\"2\").sum() / b\n",
    "(a[\"X2\"] ==\"S\").sum() / b"
   ]
  },
  {
   "cell_type": "code",
   "execution_count": 11,
   "metadata": {},
   "outputs": [
    {
     "data": {
      "text/plain": [
       "0.06666666666666667"
      ]
     },
     "execution_count": 11,
     "metadata": {},
     "output_type": "execute_result"
    }
   ],
   "source": [
    "p_2=P_y_2 * (a[\"X1\"] ==\"2\").sum() / b * (a[\"X2\"] ==\"S\").sum() / b\n",
    "p_2"
   ]
  },
  {
   "cell_type": "code",
   "execution_count": 12,
   "metadata": {},
   "outputs": [
    {
     "data": {
      "text/plain": [
       "-2.70805020110221"
      ]
     },
     "execution_count": 12,
     "metadata": {},
     "output_type": "execute_result"
    }
   ],
   "source": [
    "np.log(p_2)"
   ]
  },
  {
   "cell_type": "code",
   "execution_count": 13,
   "metadata": {},
   "outputs": [],
   "source": [
    "def calc_xianyan(data):\n",
    "    labels = data.iloc[:,-1]\n",
    "    all_size = labels.index.size\n",
    "    \n",
    "    dict_ = {}\n",
    "    for i in labels:\n",
    "        if i in dict_:\n",
    "            dict_[i] += 1. / all_size\n",
    "        else:\n",
    "            dict_[i] = 1. / all_size\n",
    "        \n",
    "   \n",
    "    return dict_"
   ]
  },
  {
   "cell_type": "code",
   "execution_count": 14,
   "metadata": {},
   "outputs": [],
   "source": [
    "def calc_tiaojian(data,test_data):\n",
    "    all_size = data.index.size\n",
    "    Features = data.columns[:-1]      ##for feature in test_data:  feature=2\n",
    "    \n",
    "    P_I = 1\n",
    "    for i in range(len(test_data)):\n",
    "        sum_feature = (data[Features[i]] == test_data[i]).sum()    ###分子部分\n",
    "        p_i = sum_feature / all_size\n",
    "        \n",
    "        P_I *= p_i\n",
    "    return P_I"
   ]
  },
  {
   "cell_type": "code",
   "execution_count": 15,
   "metadata": {},
   "outputs": [],
   "source": [
    "def split_data(data,test_data):\n",
    "    p_y = calc_xianyan(data)\n",
    "    labels = pd.unique(data.iloc[:,-1])   ###子特征拆分\n",
    "    ALL_P_I = []\n",
    "    for label in labels:\n",
    "        p_y_xianyan = p_y[label]\n",
    "        splitData = data[data.iloc[:,-1] == label]\n",
    "        P_I = calc_tiaojian(splitData,test_data)       ####条件概率\n",
    "        ALL_P_I.append([label,np.log(P_I * p_y_xianyan)] )\n",
    "        \n",
    "        \n",
    "    predict = sorted(ALL_P_I,key=lambda z:z[1],reverse=True)[0][0]\n",
    "   \n",
    "    return predict\n",
    "        "
   ]
  },
  {
   "cell_type": "code",
   "execution_count": 16,
   "metadata": {},
   "outputs": [
    {
     "data": {
      "text/plain": [
       "'-1'"
      ]
     },
     "execution_count": 16,
     "metadata": {},
     "output_type": "execute_result"
    }
   ],
   "source": [
    "test_data = ['2','S']\n",
    "split_data(data,test_data)"
   ]
  },
  {
   "cell_type": "code",
   "execution_count": null,
   "metadata": {},
   "outputs": [],
   "source": []
  },
  {
   "cell_type": "code",
   "execution_count": 17,
   "metadata": {},
   "outputs": [],
   "source": [
    "##S=1 M=2 L=3\n",
    "x = np.array([[1,1,1,1,1,2,2,2,2,2,3,3,3,3,3],\n",
    "            [1,2,2,1,1,1,2,2,3,3,3,2,2,3,3]]).T   ####  str(字符串)>float（浮点）>int（整形）\n",
    "y = np.array([-1,-1,1,1,-1,-1,-1,1,1,1,1,1,1,1,-1])"
   ]
  },
  {
   "cell_type": "code",
   "execution_count": 18,
   "metadata": {},
   "outputs": [
    {
     "data": {
      "text/plain": [
       "(15, 2)"
      ]
     },
     "execution_count": 18,
     "metadata": {},
     "output_type": "execute_result"
    }
   ],
   "source": [
    "x.shape"
   ]
  },
  {
   "cell_type": "code",
   "execution_count": 19,
   "metadata": {},
   "outputs": [
    {
     "data": {
      "text/plain": [
       "(15,)"
      ]
     },
     "execution_count": 19,
     "metadata": {},
     "output_type": "execute_result"
    }
   ],
   "source": [
    "y.shape"
   ]
  },
  {
   "cell_type": "code",
   "execution_count": 20,
   "metadata": {},
   "outputs": [
    {
     "name": "stdout",
     "output_type": "stream",
     "text": [
      "[1]\n"
     ]
    }
   ],
   "source": [
    "    import numpy as np\n",
    "\n",
    "    x = np.array([[1,1,1,1,1,2,2,2,2,2,3,3,3,3,3],\n",
    "            [1,2,2,1,1,1,2,2,3,3,3,2,2,3,3]]).T   ####  str(字符串)>float（浮点）>int（整形）\n",
    "    y = np.array([-1,-1,1,1,-1,-1,-1,1,1,1,1,1,1,1,-1])\n",
    "    from sklearn.naive_bayes import MultinomialNB\n",
    "    clf = MultinomialNB()\n",
    "    clf.fit(x, y)\n",
    "MultinomialNB(alpha=1.0, class_prior=None, fit_prior=True)\n",
    "    print(clf.predict(x[2:3]))"
   ]
  },
  {
   "cell_type": "code",
   "execution_count": null,
   "metadata": {},
   "outputs": [],
   "source": []
  },
  {
   "cell_type": "code",
   "execution_count": null,
   "metadata": {},
   "outputs": [],
   "source": []
  },
  {
   "cell_type": "code",
   "execution_count": null,
   "metadata": {},
   "outputs": [],
   "source": []
  },
  {
   "cell_type": "code",
   "execution_count": null,
   "metadata": {},
   "outputs": [],
   "source": []
  }
 ],
 "metadata": {
  "kernelspec": {
   "display_name": "Python 3",
   "language": "python",
   "name": "python3"
  },
  "language_info": {
   "codemirror_mode": {
    "name": "ipython",
    "version": 3
   },
   "file_extension": ".py",
   "mimetype": "text/x-python",
   "name": "python",
   "nbconvert_exporter": "python",
   "pygments_lexer": "ipython3",
   "version": "3.6.4"
  }
 },
 "nbformat": 4,
 "nbformat_minor": 2
}
