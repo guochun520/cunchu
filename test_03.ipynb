{
 "cells": [
  {
   "cell_type": "code",
   "execution_count": 5,
   "metadata": {},
   "outputs": [],
   "source": [
    "import numpy as np\n",
    "import pandas as pd\n"
   ]
  },
  {
   "cell_type": "code",
   "execution_count": 17,
   "metadata": {},
   "outputs": [],
   "source": [
    "def LoadData_():\n",
    "    \"\"\"\n",
    "    Load data set \n",
    "    \n",
    "    Return:\n",
    "    ------\n",
    "        data: DataFrame.\n",
    "        \n",
    "    Note:\n",
    "    ----\n",
    "        last column: labels\n",
    "    \"\"\"\n",
    "    datasets = np.array([[1,1,1,1,1,2,2,2,2,2,3,3,3,3,3],\n",
    "                  ['S','M','M','S','S','S','M','M','L','L','L','M','M','L','L'],\n",
    "                  [-1,-1,1,1,-1,-1,-1,1,1,1,1,1,1,1,-1]]).T   ####  str(字符串)>float（浮点）>int（整形）\n",
    "    columns = np.array(['X1','X2','Y'])\n",
    "\n",
    "    data = pd.DataFrame(data=datasets,columns=columns)\n",
    "    return data"
   ]
  },
  {
   "cell_type": "code",
   "execution_count": 22,
   "metadata": {},
   "outputs": [],
   "source": [
    "data = LoadData_()"
   ]
  },
  {
   "cell_type": "code",
   "execution_count": 76,
   "metadata": {},
   "outputs": [],
   "source": [
    "def calc_xianyan(data):\n",
    "    labels = data.iloc[:,-1]\n",
    "    all_size = labels.index.size\n",
    "    \n",
    "    dict_ = {}\n",
    "    for i in labels:\n",
    "        if i in dict_:\n",
    "            dict_[i] += 1. / all_size \n",
    "        else:\n",
    "            dict_[i] = 1. / all_size \n",
    "        \n",
    "   \n",
    "    return dict_"
   ]
  },
  {
   "cell_type": "code",
   "execution_count": 84,
   "metadata": {},
   "outputs": [],
   "source": [
    "def calc_tiaojian(data,test_data):\n",
    "    all_size = data.index.size\n",
    "    Features = data.columns[:-1]      ##for feature in test_data:  feature=2\n",
    "    \n",
    "    P_I = 1\n",
    "    for i in range(len(test_data)):\n",
    "        sum_feature = (data[Features[i]] == test_data[i]).sum()    ###分子部分\n",
    "        p_i = sum_feature + 1e-10/ all_size \n",
    "        \n",
    "        P_I *= p_i\n",
    "    return P_I"
   ]
  },
  {
   "cell_type": "code",
   "execution_count": 85,
   "metadata": {},
   "outputs": [],
   "source": [
    "def split_data(data,test_data):\n",
    "    p_y = calc_xianyan(data)\n",
    "    labels = pd.unique(data.iloc[:,-1])   ###子特征拆分\n",
    "    ALL_P_I = []\n",
    "    for label in labels:\n",
    "        p_y_xianyan = p_y[label]\n",
    "        splitData = data[data.iloc[:,-1] == label]\n",
    "        P_I = calc_tiaojian(splitData,test_data)       ####条件概率\n",
    "        ALL_P_I.append([label,np.log(P_I * p_y_xianyan)])\n",
    "       \n",
    "        \n",
    "    predict = sorted(ALL_P_I,key=lambda z:z[1],reverse=True)[0][0]\n",
    "   \n",
    "    return predict"
   ]
  },
  {
   "cell_type": "code",
   "execution_count": 86,
   "metadata": {},
   "outputs": [
    {
     "data": {
      "text/plain": [
       "'-1'"
      ]
     },
     "execution_count": 86,
     "metadata": {},
     "output_type": "execute_result"
    }
   ],
   "source": [
    "test_data = ['2','S']\n",
    "split_data(data,test_data)"
   ]
  },
  {
   "cell_type": "code",
   "execution_count": 83,
   "metadata": {},
   "outputs": [],
   "source": [
    "def NaiveBayes(data,test_X,gamma,is_print=False):\n",
    "    \"\"\"\n",
    "    Build Naive Bayes\n",
    "    \n",
    "    Parameters:\n",
    "    ----------\n",
    "        data: training set.\n",
    "        test_X: testing set.\n",
    "        gamma: Laplace smoothing\n",
    "        is_print: is print label category and pos posterior probability.\n",
    "    \"\"\"\n",
    "    \n",
    "    # 获取labels\n",
    "    labels = data.iloc[:,-1]\n",
    "    # 获取labels的类别个数K\n",
    "    labels_ = np.array(list(set(labels)))\n",
    "    len_labels_ = labels_.shape[0]\n",
    "    \n",
    "    # 先验概率\n",
    "    pri_prob= np.zeros((len_labels_))\n",
    "    \n",
    "    \n",
    "    # 预测值保留数组\n",
    "    m,n = test_X.shape\n",
    "    cache_predict = np.zeros((m,len_labels_))\n",
    "    \n",
    "    # 计算先验概率\n",
    "    for i in range(len_labels_):\n",
    "        P_y = (labels[labels == labels_[i]].size + gamma) / (labels.size + len_labels_ * gamma)\n",
    "        pri_prob[i] = P_y\n",
    "    \n",
    "    # 计算条件概率\n",
    "    for i in range(m):\n",
    "        for j in range(len_labels_):\n",
    "            Conditional_Prob = 1\n",
    "            for k in range(n):\n",
    "        \n",
    "                data_label = data[labels==labels_[j]] # 该标签下的所有数据\n",
    "                future_k = data_label.iloc[:,k]  # test_X 的第k个特征列\n",
    "                molecule = data_label[future_k == test_X[i,k]].shape[0] + gamma # 分子部分\n",
    "                Sj = len(set(future_k))\n",
    "                denominator = data_label.shape[0] + (Sj * gamma) # 分母部分\n",
    "                \n",
    "                Conditional_Prob *= molecule /denominator # 计算条件概率\n",
    "                \n",
    "            Pos_proba = pri_prob[j] * Conditional_Prob # 计算后验概率\n",
    "            \n",
    "            cache_predict[i,j] += Pos_proba\n",
    "        \n",
    "    # if ture,print labels_ and predict probability array.\n",
    "    if is_print:\n",
    "        print(labels_)\n",
    "        print(cache_predict)\n",
    "        \n",
    "    best_predict_index = np.argmax(cache_predict,axis=1)\n",
    "    return labels_[best_predict_index]"
   ]
  },
  {
   "cell_type": "code",
   "execution_count": 67,
   "metadata": {},
   "outputs": [
    {
     "name": "stdout",
     "output_type": "stream",
     "text": [
      "['1' '-1']\n",
      "[[0.03267974 0.06100218]]\n",
      "Predict label is:  ['-1']\n"
     ]
    }
   ],
   "source": [
    "test_x = np.array([['2','S']])\n",
    "predic_label = NaiveBayes(data=data,test_X=test_x,gamma=1,is_print=True)\n",
    "print('Predict label is: ',predic_label)"
   ]
  },
  {
   "cell_type": "code",
   "execution_count": null,
   "metadata": {},
   "outputs": [],
   "source": []
  }
 ],
 "metadata": {
  "kernelspec": {
   "display_name": "Python 3",
   "language": "python",
   "name": "python3"
  },
  "language_info": {
   "codemirror_mode": {
    "name": "ipython",
    "version": 3
   },
   "file_extension": ".py",
   "mimetype": "text/x-python",
   "name": "python",
   "nbconvert_exporter": "python",
   "pygments_lexer": "ipython3",
   "version": "3.6.4"
  }
 },
 "nbformat": 4,
 "nbformat_minor": 2
}
