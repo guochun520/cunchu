{
 "cells": [
  {
   "cell_type": "code",
   "execution_count": 4,
   "metadata": {},
   "outputs": [
    {
     "name": "stdout",
     "output_type": "stream",
     "text": [
      "1\t5\t12\t22\t35\t51\t70\t92\t117\t145\n",
      "176\t210\t247\t287\t330\t376\t425\t477\t532\t590\n",
      "651\t715\t782\t852\t925\t1001\t1080\t1162\t1247\t1335\n",
      "1426\t1520\t1617\t1717\t1820\t1926\t2035\t2147\t2262\t2380\n",
      "2501\t2625\t2752\t2882\t3015\t3151\t3290\t3432\t3577\t3725\n",
      "3876\t4030\t4187\t4347\t4510\t4676\t4845\t5017\t5192\t5370\n",
      "5551\t5735\t5922\t6112\t6305\t6501\t6700\t6902\t7107\t7315\n",
      "7526\t7740\t7957\t8177\t8400\t8626\t8855\t9087\t9322\t9560\n",
      "9801\t10045\t10292\t10542\t10795\t11051\t11310\t11572\t11837\t12105\n",
      "12376\t12650\t12927\t13207\t13490\t13776\t14065\t14357\t14652\t14950\n"
     ]
    }
   ],
   "source": [
    "#第一题：五角数定义为n(3n-1)/2,开始几个数是1、5、12、22\n",
    "def getPentagonalNumber(n):\n",
    "    a =int( n*(3*n-1)/2)#公式找到100个数\n",
    "    if n%10 !=0:#每行显示10个\n",
    "        print(a,end='\\t')#\\t制表符\n",
    "    else:\n",
    "        print(a)\n",
    "for i in range(1,101):\n",
    "    time.sleep(1)#睡眠时间1秒\n",
    "    getPentagonalNumber(i)"
   ]
  },
  {
   "cell_type": "code",
   "execution_count": null,
   "metadata": {},
   "outputs": [],
   "source": []
  },
  {
   "cell_type": "code",
   "execution_count": 13,
   "metadata": {},
   "outputs": [
    {
     "name": "stdout",
     "output_type": "stream",
     "text": [
      "9\n"
     ]
    }
   ],
   "source": [
    "#第二题：求一个整数各个数字的和，用%、//，输入一个整数\n",
    "def sumDigits(n):\n",
    "    #str将括号中的内容强制转换为字符串\n",
    "    str_=str(n)\n",
    "    int_=0\n",
    "    for i in str_:\n",
    "        int_ +=int(i)#相当于int_=int_+int(i)\n",
    "    print(int_)\n",
    "sumDigits(234)\n",
    "  \n"
   ]
  },
  {
   "cell_type": "code",
   "execution_count": null,
   "metadata": {},
   "outputs": [],
   "source": []
  },
  {
   "cell_type": "code",
   "execution_count": null,
   "metadata": {},
   "outputs": [],
   "source": []
  },
  {
   "cell_type": "code",
   "execution_count": 6,
   "metadata": {},
   "outputs": [
    {
     "name": "stdout",
     "output_type": "stream",
     "text": [
      "Enter three number: 89 42 2\n",
      "The sorted number are 2 42 89\n"
     ]
    }
   ],
   "source": [
    "#第三题（()）：\n",
    "def desplaySortedNumbers(num1,num2,num3):\n",
    "    print(\"Enter three number:\",num1,num2,num3)\n",
    "    if num1>num2 and num1>num3:\n",
    "        if num2 > num3:\n",
    "            print(\"The sorted number are\",num3,num2,num1)\n",
    "        else:\n",
    "            print(\"The sorted number are\",num2,num3,num1)\n",
    "    elif num2>num1 and num2>num3:\n",
    "        if num1 > num3:\n",
    "            print(\"The sorted number are\",num3,num1,num2)\n",
    "        else:\n",
    "            print(\"The sorted number are\",num1,num3,num2)\n",
    "    elif num3>num1 and num3>num2:\n",
    "        if num1 > num2:\n",
    "            print(\"The sorted number are\",num2,num1,num3)\n",
    "        else:\n",
    "            print(\"The sorted number are\",num1,num2,num3)\n",
    "\n",
    "desplaySortedNumbers(89,42,2)"
   ]
  },
  {
   "cell_type": "code",
   "execution_count": 42,
   "metadata": {},
   "outputs": [
    {
     "name": "stdout",
     "output_type": "stream",
     "text": [
      "输入第一个数:67\n",
      "输入第二个数:33\n",
      "输入第三个数:56\n",
      "33 56 67\n"
     ]
    }
   ],
   "source": [
    "#第三题：输入三个数，升序排列\n",
    "def desplaySortedNumbers(num1,num2,num3):\n",
    "    num1=int(input(\"输入第一个数:\"))\n",
    "    num2=int(input(\"输入第二个数:\"))\n",
    "    num3=int(input(\"输入第三个数:\"))\n",
    "    if num1>=num2:\n",
    "        if num1>=num3:\n",
    "            if num2>=num3:\n",
    "                print(num3,num2,num1)\n",
    "            else:\n",
    "                print(num2,num3,num1)\n",
    "        else:\n",
    "            print(num2,num1,num3)\n",
    "    else:\n",
    "        if num1>=num3:\n",
    "            print(num3,num1,num2)\n",
    "        elif num2>=num3:\n",
    "            print(num1,num3,num2)\n",
    "        else:\n",
    "            print(num1,num2,num3)\n",
    "desplaySortedNumbers(num1,num2,num3)"
   ]
  },
  {
   "cell_type": "code",
   "execution_count": 16,
   "metadata": {},
   "outputs": [
    {
     "data": {
      "text/plain": [
       "'\\na=[2,1,3]\\na.sort()#默认升序排列，用reverse实现降序排列\\nprint(a)\\n'"
      ]
     },
     "execution_count": 16,
     "metadata": {},
     "output_type": "execute_result"
    }
   ],
   "source": [
    "#第三题，第二种方法：\n",
    "#定义列表\n",
    "\"\"\"\n",
    "a=[2,1,3]\n",
    "a.sort()#默认升序排列，用reverse实现降序排列\n",
    "print(a)\n",
    "\"\"\"\n"
   ]
  },
  {
   "cell_type": "code",
   "execution_count": 14,
   "metadata": {},
   "outputs": [
    {
     "name": "stdout",
     "output_type": "stream",
     "text": [
      "[2, 42, 89]\n"
     ]
    }
   ],
   "source": [
    "#第三题第二种方法：\n",
    "def desplaySortedNumbers(num1,num2,num3):\n",
    "    res=[num1,num2,num3]\n",
    "    res.sort()\n",
    "    print(res)\n",
    "desplaySortedNumbers(89,42,2)"
   ]
  },
  {
   "cell_type": "code",
   "execution_count": 58,
   "metadata": {},
   "outputs": [
    {
     "name": "stdout",
     "output_type": "stream",
     "text": [
      "1 10900.0\n",
      "2 11881.0\n",
      "3 12950.29\n",
      "4 14115.8161\n",
      "5 15386.239549\n",
      "6 16771.00110841\n",
      "7 18280.3912081669\n",
      "8 19925.62641690192\n",
      "9 21718.932794423094\n",
      "10 23673.636745921172\n",
      "11 25804.264053054078\n",
      "12 28126.647817828944\n",
      "13 30658.04612143355\n",
      "14 33417.27027236257\n",
      "15 36424.8245968752\n",
      "16 39703.05881059397\n",
      "17 43276.33410354742\n",
      "18 47171.20417286669\n",
      "19 51416.61254842469\n",
      "20 56044.10767778291\n",
      "21 61088.07736878337\n",
      "22 66586.00433197388\n",
      "23 72578.74472185153\n",
      "24 79110.83174681816\n",
      "25 86230.8066040318\n",
      "26 93991.57919839465\n",
      "27 102450.82132625018\n",
      "28 111671.3952456127\n",
      "29 121721.82081771785\n",
      "30 132676.78469131247\n"
     ]
    }
   ],
   "source": [
    "#第四题： 编写一个程序提示用户输入投资额和百分比格式的年利率，然后输出一份表格显示\n",
    "#年份从1到30年的未来值。\n",
    "#chr、ord函数\n",
    "def futureInvestmentValue(benjin,lirunlv,years):\n",
    "    years = years+1\n",
    "    for i in range(1,years):\n",
    "        shouyizongjine = benjin + benjin*lirunlv\n",
    "        print(i,shouyizongjine)\n",
    "        benjin=shouyizongjine\n",
    "futureInvestmentValue(10000,0.09,30)"
   ]
  },
  {
   "cell_type": "code",
   "execution_count": null,
   "metadata": {},
   "outputs": [],
   "source": []
  },
  {
   "cell_type": "code",
   "execution_count": null,
   "metadata": {},
   "outputs": [],
   "source": []
  },
  {
   "cell_type": "code",
   "execution_count": 64,
   "metadata": {},
   "outputs": [
    {
     "name": "stdout",
     "output_type": "stream",
     "text": [
      "1  2  3  4  5  6  7  8  9  :\n",
      ";  <  =  >  ?  @  A  B  C  D\n",
      "E  F  G  H  I  J  K  L  M  N\n",
      "O  P  Q  R  S  T  U  V  W  X\n",
      "Y  "
     ]
    }
   ],
   "source": [
    "#第五题(())：打印1到Z，每行打印10个\n",
    "def printChars(ch1,ch2,numberPerLine):\n",
    "    a=ord(ch1)+1\n",
    "    b=ord(ch2)\n",
    "    n=0\n",
    "    for i in range(a,b):\n",
    "        n=n+1\n",
    "        if n%numberPerLine !=0:\n",
    "            print(chr(i),end='  ')\n",
    "        else:\n",
    "            print(chr(i))\n",
    "        \n",
    "printChars('0','Z',10)"
   ]
  },
  {
   "cell_type": "code",
   "execution_count": null,
   "metadata": {},
   "outputs": [],
   "source": []
  },
  {
   "cell_type": "code",
   "execution_count": 59,
   "metadata": {},
   "outputs": [
    {
     "name": "stdout",
     "output_type": "stream",
     "text": [
      "2010 365天\n",
      "2011 365天\n",
      "2012 366天\n",
      "2013 365天\n",
      "2014 365天\n",
      "2015 365天\n",
      "2016 366天\n",
      "2017 365天\n",
      "2018 365天\n",
      "2019 365天\n",
      "2020 366天\n"
     ]
    }
   ],
   "source": [
    "#第六题：编写一个程序测试，显示从2010年到2020年每年的天数\n",
    "#普通闰年：能被4整除，但不能被100整除的是闰年；\n",
    "#世纪年：能被四百整除的是闰年\n",
    "def numberOfDaysInAYrea(year):\n",
    "    if year%100==0:\n",
    "        if year%400==0:\n",
    "            print(year,\"366天\")\n",
    "        else:\n",
    "            print(year,\"365天\")\n",
    "    elif year%4==0:\n",
    "        print(year,\"366天\")\n",
    "    else:\n",
    "        print(year,\"365天\")\n",
    "\n",
    "for year in range(2010,2021):\n",
    "    numberOfDaysInAYrea(year)"
   ]
  },
  {
   "cell_type": "code",
   "execution_count": 66,
   "metadata": {},
   "outputs": [
    {
     "name": "stdout",
     "output_type": "stream",
     "text": [
      "两点间距离为： 2.8284271247461903\n"
     ]
    }
   ],
   "source": [
    "#第七题：计算两点间距离\n",
    "import math\n",
    "def distance(x1,y1,x2,y2):\n",
    "    a=(x1-x2)**2\n",
    "    b=(y1-y2)**2\n",
    "    c=a+b\n",
    "    dis= math.sqrt(c)\n",
    "    print(\"两点间距离为：\",dis)\n",
    "    \n",
    "distance(1,2,3,4)"
   ]
  },
  {
   "cell_type": "code",
   "execution_count": null,
   "metadata": {},
   "outputs": [],
   "source": []
  },
  {
   "cell_type": "code",
   "execution_count": null,
   "metadata": {},
   "outputs": [],
   "source": []
  },
  {
   "cell_type": "code",
   "execution_count": null,
   "metadata": {},
   "outputs": [],
   "source": [
    "#第八题(())：如果一个素数可以写成2**（P-1）的形式，其中p是某个正整数，\n",
    "#那么这个数就被称作梅森素数。编写程序找出p<=31的梅森素数。\n",
    "def meisen(p):\n",
    "    q=pow(2,p)-1\n",
    "    m=2\n",
    "    if p==2:\n",
    "        print(p,q)\n",
    "    for i in range(2,p):\n",
    "        m=m+1\n",
    "        if p%i==0:\n",
    "            break\n",
    "        if m == p:\n",
    "            print(p,q)\n",
    "            \n",
    "for p in range(1,32):\n",
    "    meisen(p)"
   ]
  },
  {
   "cell_type": "code",
   "execution_count": null,
   "metadata": {},
   "outputs": [],
   "source": []
  },
  {
   "cell_type": "code",
   "execution_count": 2,
   "metadata": {},
   "outputs": [
    {
     "name": "stdout",
     "output_type": "stream",
     "text": [
      "time.time:1565169143.827306\n",
      "Cuurrent date and time is 2019 年 8 月 7 日 17 : 12 : 23\n"
     ]
    }
   ],
   "source": [
    "#第九题（邢正如的）：显示从现在到1970年1月1日0点的毫秒数\n",
    "import time\n",
    "print(\"time.time:%f\"%time.time())\n",
    "time.localtime()\n",
    "time = time.localtime(time.time())\n",
    "print(\"Cuurrent date and time is\",time.tm_year,\"年\",\n",
    "      time.tm_mon,\"月\",time.tm_mday,\"日\",\n",
    "      time.tm_hour,\":\",time.tm_min,\":\",time.tm_sec)\n",
    "'''\n",
    "import time //导入time模块\n",
    "print(\"time.time:%f\"%time.time()) //从1970年1月1日0时0分0秒起,至当前时间,经过的浮点秒数\n",
    "time.localtime()  //返回当前时间的stuck_time(tuple的形式)格式\n",
    "print(time.localtime(time.time())) \n",
    "    //time.localtime(time.time())输出结果为：\n",
    "         time.struct_time(tm_year=年, tm_mon=月, \n",
    "         tm_mday=日, tm_hour=小时, tm_min=分钟, tm_sec=秒, \n",
    "         tm_wday=weekday（0-6周日是0）, tm_yday=218（一年中的第几天）, \n",
    "         tm_isdst= 默认为-1)\n",
    "time.asctime() //传入struct_time的时间,输出格式化时间,英文简写的星期几,几月,几日,时间,年份\n",
    "'''"
   ]
  },
  {
   "cell_type": "code",
   "execution_count": null,
   "metadata": {},
   "outputs": [],
   "source": []
  },
  {
   "cell_type": "code",
   "execution_count": null,
   "metadata": {},
   "outputs": [],
   "source": []
  },
  {
   "cell_type": "code",
   "execution_count": 1,
   "metadata": {},
   "outputs": [
    {
     "name": "stdout",
     "output_type": "stream",
     "text": [
      "您第一次抛出的点数为: 2\n",
      "您第二次抛出的点数为: 4\n",
      "您抛出的两次点数之和为： 6\n",
      "您第一次抛出的点数为: 2\n",
      "您第二次抛出的点数为: 4\n",
      "您抛出的两次点数之和为： 6\n",
      "你赢了！！！\n"
     ]
    }
   ],
   "source": [
    "#第十题：\n",
    "import numpy as np\n",
    "def dianshu():\n",
    "    res1 = np.random.choice([1,2,3,4,5,6])\n",
    "    print(\"您第一次抛出的点数为:\",res1)\n",
    "    res2 = np.random.choice([1,2,3,4,5,6])\n",
    "    print(\"您第二次抛出的点数为:\",res2)\n",
    "    res = res1 + res2\n",
    "    print(\"您抛出的两次点数之和为：\",res)\n",
    "    return res\n",
    "res = dianshu()\n",
    "if res==2 or res==3 or res==12:\n",
    "    print(\"你输了！！！\")\n",
    "elif res==7 or res==11:\n",
    "    print(\"你赢了！！！\")\n",
    "else:\n",
    "    res3 = res\n",
    "    res = dianshu()\n",
    "    if res ==7 or res == res3:\n",
    "        print(\"你赢了！！！\")\n",
    "    else:\n",
    "        print(\"请开始下一局！\")"
   ]
  },
  {
   "cell_type": "code",
   "execution_count": null,
   "metadata": {},
   "outputs": [],
   "source": []
  },
  {
   "cell_type": "code",
   "execution_count": null,
   "metadata": {},
   "outputs": [],
   "source": []
  },
  {
   "cell_type": "code",
   "execution_count": null,
   "metadata": {},
   "outputs": [
    {
     "name": "stdout",
     "output_type": "stream",
     "text": [
      "请选择对战模式：人机对战或多人对战人机\n",
      "人机\n"
     ]
    }
   ],
   "source": [
    "\"\"\"王者农药\n",
    " 人机对战 1.点击人机对战的按钮(输入) 2.挑选人物(典韦,赵云,鲁班) 3.显示战力,技能,防御\n",
    " 4.人物确定,随机出1个人机，包括战力,名字...等信息显示 5.点击开始按钮.. 6.进入加载页面...\"\"\"\n",
    "import numpy as np\n",
    "class wangzhe(object):\n",
    "    def duizhan(self):\n",
    "        choose = input('请选择对战模式：人机对战或多人对战')\n",
    "        print(choose)\n",
    "    def tiaoxuan(self):\n",
    "        a = input('请输入您选择的人物：典韦，赵云，鲁班')\n",
    "        if a == '典韦':\n",
    "            print(a ,\"战力--2000，防御--500\")\n",
    "        elif a == '赵云':\n",
    "            print(a , \"战力--3000，防御--1500\")\n",
    "        else:\n",
    "            print(a , \"战力--1500，防御--2500\")\n",
    "    def suiji(self):\n",
    "        res = np.random.choice(['典韦','赵云','鲁班'])\n",
    "        if res == '典韦':\n",
    "            print(res,\"战力--2000，防御--500\")\n",
    "        elif res == '赵云':\n",
    "            print(res , \"战力--3000，防御--1500\")\n",
    "        else:\n",
    "            print(res , \"战力--1500，防御--2500\")\n",
    "    def start(self):\n",
    "        b = input('请输入\"开始\"进入游戏:')\n",
    "        print(b,\"正在进入游戏页面......\")\n",
    "a = wangzhe()\n",
    "a.duizhan()\n",
    "a.tiaoxuan()\n",
    "a.suiji()\n",
    "a.start()"
   ]
  },
  {
   "cell_type": "code",
   "execution_count": null,
   "metadata": {},
   "outputs": [],
   "source": []
  },
  {
   "cell_type": "code",
   "execution_count": null,
   "metadata": {},
   "outputs": [],
   "source": []
  },
  {
   "cell_type": "code",
   "execution_count": null,
   "metadata": {},
   "outputs": [],
   "source": []
  },
  {
   "cell_type": "code",
   "execution_count": null,
   "metadata": {},
   "outputs": [],
   "source": []
  }
 ],
 "metadata": {
  "kernelspec": {
   "display_name": "Python 3",
   "language": "python",
   "name": "python3"
  },
  "language_info": {
   "codemirror_mode": {
    "name": "ipython",
    "version": 3
   },
   "file_extension": ".py",
   "mimetype": "text/x-python",
   "name": "python",
   "nbconvert_exporter": "python",
   "pygments_lexer": "ipython3",
   "version": "3.7.3"
  }
 },
 "nbformat": 4,
 "nbformat_minor": 2
}
