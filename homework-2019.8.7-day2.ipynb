{
 "cells": [
  {
   "cell_type": "code",
   "execution_count": 44,
   "metadata": {},
   "outputs": [
    {
     "name": "stdout",
     "output_type": "stream",
     "text": [
      "第一个矩形的宽为： 4\n",
      "第一个矩形的高为： 5\n",
      "第一个矩形的面积为： 20\n",
      "第一个矩形的周长为： 18\n",
      "第二个矩形的宽为： 3\n",
      "第二个矩形的高为： 4\n",
      "第二个矩形的面积为： 12\n",
      "第二个矩形的周长为： 14\n"
     ]
    }
   ],
   "source": [
    "#第一题：创建两个矩形，分别求他们的周长和面积,显示其宽、高、面积、周长\n",
    "class Rectangle1(object):\n",
    "    def __init__(self,width1,height1):\n",
    "        self.width1=width1\n",
    "        self.height1=height1\n",
    "        width1=1\n",
    "        height1=2\n",
    "    def shuxing1(self):\n",
    "        print(\"第一个矩形的宽为：\",self.width1)\n",
    "        print(\"第一个矩形的高为：\",self.height1)\n",
    "    def getArea1(self):\n",
    "        print(\"第一个矩形的面积为：\",self.width1*self.height1)\n",
    "    def getPerimeter1(self):\n",
    "        print(\"第一个矩形的周长为：\",2*(self.width1+self.height1))\n",
    "class Rectangle2(object):\n",
    "    def __init__(self,width2,height2):\n",
    "        self.width2=width2\n",
    "        self.height2=height2\n",
    "        width2=1\n",
    "        height2=2\n",
    "    def shuxing2(self):\n",
    "        print(\"第二个矩形的宽为：\",self.width2)\n",
    "        print(\"第二个矩形的高为：\",self.height2)\n",
    "    def getArea2(self):\n",
    "        print(\"第二个矩形的面积为：\",self.width2*self.height2)\n",
    "    def getPerimeter2(self):\n",
    "        print(\"第二个矩形的周长为：\",2*(self.width2+self.height2))\n",
    "    \n",
    "a=Rectangle1(4,5)\n",
    "a.shuxing1()\n",
    "a.getArea1()\n",
    "a.getPerimeter1()\n",
    "\n",
    "a=Rectangle2(3,4)\n",
    "a.shuxing2()\n",
    "a.getArea2()\n",
    "a.getPerimeter2()\n",
    "\n"
   ]
  },
  {
   "cell_type": "code",
   "execution_count": null,
   "metadata": {},
   "outputs": [],
   "source": []
  },
  {
   "cell_type": "code",
   "execution_count": null,
   "metadata": {},
   "outputs": [],
   "source": []
  },
  {
   "cell_type": "code",
   "execution_count": null,
   "metadata": {},
   "outputs": [],
   "source": []
  },
  {
   "cell_type": "code",
   "execution_count": null,
   "metadata": {},
   "outputs": [],
   "source": []
  },
  {
   "cell_type": "code",
   "execution_count": 64,
   "metadata": {},
   "outputs": [
    {
     "name": "stdout",
     "output_type": "stream",
     "text": [
      "id为： 4545\n",
      "余额为： 20500\n",
      "月利率为： 0.00375\n",
      "月利息为： 76.875\n"
     ]
    }
   ],
   "source": [
    "#第二题：创建一个银行账户，从中取出2500美元，再存入3000美元，并打印id、金额、月利率、月利息\n",
    "class Account(object):\n",
    "    def __init__(self,id,balance,annuallnterestRate):\n",
    "        self.__id=id\n",
    "        self.__balance = balance\n",
    "        self.__annuallnterestRate = annuallnterestRate\n",
    "        \n",
    "    @property\n",
    "    def id(self):\n",
    "        print(self.__id)\n",
    "    def balance(self):\n",
    "        print(self.__balance)   \n",
    "    def annuallnterestRate(self):\n",
    "        print(self.__annuallnterestRate)  \n",
    "        \n",
    "    @id.setter\n",
    "    def id(self,iid):\n",
    "        self.__id=iid\n",
    "    def balance(self,ibalance):\n",
    "        self.__balance = ibalance\n",
    "    def annuallnterestRate(self,iannuallnterestRate):\n",
    "        self.__annuallnterestRate = iannuallnterestRate\n",
    "    \n",
    "    def getMonthlyInterestRate(self):\n",
    "    #返回月利率\n",
    "        self.monthlyInterestRate = self.__annuallnterestRate/12\n",
    "        print(\"月利率为：\",self.monthlyInterestRate)\n",
    "    def getMonthlyInterest(self):\n",
    "        #返回月利息\n",
    "        print(\"月利息为：\",self.__balance * self.monthlyInterestRate)\n",
    "    def withdraw(self,atm):\n",
    "        #取款\n",
    "        self.__balance = self.__balance - atm#atm取钱或支钱数\n",
    "    def deposit(self,atm):\n",
    "        #存款\n",
    "        self.__balance = self.__balance + atm\n",
    "        print(\"id为：\",self.__id)\n",
    "        print(\"余额为：\",self.__balance)\n",
    "\n",
    "get = Account(1122,20000,0.045)\n",
    "get.id = 4545\n",
    "get.balance = 10000\n",
    "get.annuallnterestRate = 0.055\n",
    "\n",
    "get.withdraw(2500)\n",
    "get.deposit(3000)\n",
    "get.getMonthlyInterestRate()\n",
    "get.getMonthlyInterest()"
   ]
  },
  {
   "cell_type": "code",
   "execution_count": null,
   "metadata": {},
   "outputs": [],
   "source": []
  },
  {
   "cell_type": "code",
   "execution_count": null,
   "metadata": {},
   "outputs": [],
   "source": []
  },
  {
   "cell_type": "code",
   "execution_count": null,
   "metadata": {},
   "outputs": [],
   "source": []
  },
  {
   "cell_type": "code",
   "execution_count": null,
   "metadata": {},
   "outputs": [],
   "source": []
  },
  {
   "cell_type": "code",
   "execution_count": 49,
   "metadata": {},
   "outputs": [
    {
     "name": "stdout",
     "output_type": "stream",
     "text": [
      "FAST 10.0 True yellow\n",
      "MEDIUM 5.0 False blue\n"
     ]
    }
   ],
   "source": [
    "#第三题：创建一个类，类中包括两个风扇对象。使第一个风扇速度最大、半径为10、黄色、打开状态；\n",
    "#第二个风扇，中速、半径为5、颜色为蓝色，关闭状态\n",
    "#刘钰的\n",
    "class Fan(object):\n",
    "    def __init__(self):\n",
    "        self.speed=1\n",
    "        self.on=False\n",
    "        self.radius=5.0\n",
    "        self.color=\"blue\"\n",
    "    def fengshan(self,speed,on,radius,color):\n",
    "        self.speed=speed\n",
    "        self.color=color\n",
    "        self.radius=radius\n",
    "        self.on=on\n",
    "    def xianshi(self):\n",
    "        if self.speed==1:\n",
    "            speed1=\"SLOW\"\n",
    "        elif self.speed==2:\n",
    "            speed1=\"MEDIUM\"\n",
    "        else:\n",
    "            speed1=\"FAST\"\n",
    "        print(speed1,self.on,self.radius,self.color)\n",
    "qwe = Fan()\n",
    "qwe.fengshan(3,10.0,True,\"yellow\")\n",
    "qwe.xianshi()\n",
    "qwe.fengshan(2,5.0,False,\"blue\")\n",
    "qwe.xianshi()"
   ]
  },
  {
   "cell_type": "code",
   "execution_count": null,
   "metadata": {},
   "outputs": [],
   "source": []
  },
  {
   "cell_type": "code",
   "execution_count": null,
   "metadata": {},
   "outputs": [],
   "source": []
  },
  {
   "cell_type": "code",
   "execution_count": null,
   "metadata": {},
   "outputs": [],
   "source": []
  },
  {
   "cell_type": "code",
   "execution_count": null,
   "metadata": {},
   "outputs": [],
   "source": []
  },
  {
   "cell_type": "code",
   "execution_count": 58,
   "metadata": {},
   "outputs": [
    {
     "name": "stdout",
     "output_type": "stream",
     "text": [
      "边长为 5 的正 6 边形周长为： 30\n",
      "边长为 5 的正 6 边形面积为： 21.650635094610966\n"
     ]
    }
   ],
   "source": [
    "#第四题：返回多边形的周长和面积\n",
    "#丛婷婷的\n",
    "import math\n",
    "class RegularPolygon(object):\n",
    "    def __init__(self,n,side,x,y):\n",
    "        self.__n = n\n",
    "        self.__side = side\n",
    "        self.__x = x\n",
    "        self.__y = y\n",
    "        x = 0\n",
    "        y = 0\n",
    "    @property#访问器\n",
    "    def n(self):\n",
    "        print(self.__n)   \n",
    "    @n.setter#修改器\n",
    "    def n(self,ern):\n",
    "        self.__n = ern   \n",
    "    @property#访问器\n",
    "    def side(self):\n",
    "        print(self.__side)   \n",
    "    @side.setter#修改器\n",
    "    def side(self,erside):\n",
    "        self.__side= erside    \n",
    "    @property#访问器\n",
    "    def x(self):\n",
    "        print(self.__x)   \n",
    "    @x.setter#修改器\n",
    "    def x(self,erx):\n",
    "        self.__x= erx  \n",
    "    @property#访问器\n",
    "    def y(self):\n",
    "        print(self.__y)   \n",
    "    @y.setter#修改器\n",
    "    def y(self,ery):\n",
    "        self.__y= ery\n",
    "        \n",
    "        \n",
    "    def getPerimeter(self):\n",
    "        print(\"边长为\",self.__side,\"的正\",self.__n,\"边形周长为：\",self.__n * self.__side)\n",
    "    def getArea(self):\n",
    "        print(\"边长为\",self.__side,\"的正\",self.__n,\"边形面积为：\",(self.__n * self.__side**2)/4* math.tan(math.pi/self.__n))\n",
    "        \n",
    "m =  RegularPolygon(10,4,5.6,7.8)\n",
    "m.n=6#六边形\n",
    "m.side = 5#边长为5\n",
    "m.x = 0\n",
    "m.y = 0\n",
    "m.getPerimeter()\n",
    "m.getArea()"
   ]
  },
  {
   "cell_type": "code",
   "execution_count": null,
   "metadata": {},
   "outputs": [],
   "source": []
  },
  {
   "cell_type": "code",
   "execution_count": null,
   "metadata": {},
   "outputs": [],
   "source": []
  },
  {
   "cell_type": "code",
   "execution_count": null,
   "metadata": {},
   "outputs": [],
   "source": []
  },
  {
   "cell_type": "code",
   "execution_count": null,
   "metadata": {},
   "outputs": [],
   "source": []
  },
  {
   "cell_type": "code",
   "execution_count": 51,
   "metadata": {},
   "outputs": [
    {
     "name": "stdout",
     "output_type": "stream",
     "text": [
      "-4.0\n",
      "4.5\n"
     ]
    }
   ],
   "source": [
    "#第五题：提示用户输入a、b、c、d、e、f\n",
    "#显示结果，若ad-bc为零，显示”这个方程是无解“\n",
    "#刘钰的\n",
    "class LinearEquation(object):\n",
    "    def __init__(self,a,b,c,d,e,f):\n",
    "        self.__a=a\n",
    "        self.__b=b\n",
    "        self.__c=c\n",
    "        self.__d=d\n",
    "        self.__e=e\n",
    "        self.__f=f\n",
    "        self.x=0\n",
    "        self.y=0\n",
    "        self.z=0\n",
    "    def isSolvable(self):\n",
    "        z=self.__a*self.__d-self.__b*self.__c\n",
    "        if z !=0:\n",
    "            self.z=True\n",
    "        else:\n",
    "            self.z=False\n",
    "    def get(self):\n",
    "        self.x=(self.__e*self.__d-self.__b*self.__f)/(self.__a*self.__d-self.__b*self.__c)\n",
    "        self.y=(self.__a*self.__f-self.__e*self.__c)/(self.__a*self.__d-self.__b*self.__c)\n",
    "    def getX(self):\n",
    "        self.isSolvable()\n",
    "        if self.z == True:\n",
    "            self.get()\n",
    "            print(self.x)\n",
    "        else:\n",
    "            pass\n",
    "    def getY(self):\n",
    "        self.isSolvable()\n",
    "        if self.z == True:\n",
    "            self.get()\n",
    "            print(self.y)\n",
    "        else:\n",
    "            pass\n",
    "        \n",
    "qwe=LinearEquation(1,2,3,4,5,6)\n",
    "qwe.getX()\n",
    "qwe.getY()"
   ]
  },
  {
   "cell_type": "code",
   "execution_count": null,
   "metadata": {},
   "outputs": [],
   "source": []
  },
  {
   "cell_type": "code",
   "execution_count": null,
   "metadata": {},
   "outputs": [],
   "source": []
  },
  {
   "cell_type": "code",
   "execution_count": null,
   "metadata": {},
   "outputs": [],
   "source": []
  },
  {
   "cell_type": "code",
   "execution_count": null,
   "metadata": {},
   "outputs": [],
   "source": []
  },
  {
   "cell_type": "code",
   "execution_count": 52,
   "metadata": {},
   "outputs": [
    {
     "data": {
      "text/plain": [
       "(2.0, 3.0)"
      ]
     },
     "execution_count": 52,
     "metadata": {},
     "output_type": "execute_result"
    }
   ],
   "source": [
    "#第六题：两条线段，提示用户输入两条线断的四个端点坐标，输出它们的交点坐标\n",
    "#刘钰的\n",
    "import numpy as np\n",
    "def get_crossing(s1,s2):\n",
    "    xa,ya = s1[0][0],s1[0][1]\n",
    "    xb,yb = s1[1][0],s1[1][1]\n",
    "    xc,yc = s2[0][0],s2[0][1]\n",
    "    xd,yd = s2[1][0],s2[1][1]\n",
    "    #判断两条直线是否相交，矩阵行列式计算\n",
    "    a = np.matrix(\n",
    "        [\n",
    "            [xb-xa,-(xd-xc)],\n",
    "            [yb-ya,-(yd-yc)]\n",
    "        ]\n",
    "    )\n",
    "    delta = np.linalg.det(a)\n",
    "    #不相交,返回两线段\n",
    "    if np.fabs(delta) < 1e-6:\n",
    "        print(delta)\n",
    "        return None        \n",
    "    #求两个参数lambda和miu\n",
    "    c = np.matrix(\n",
    "        [\n",
    "            [xc-xa,-(xd-xc)],\n",
    "            [yc-ya,-(yd-yc)]\n",
    "        ]\n",
    "    )\n",
    "    d = np.matrix(\n",
    "        [\n",
    "            [xb-xa,xc-xa],\n",
    "            [yb-ya,yc-ya]\n",
    "        ]\n",
    "    )\n",
    "    lamb = np.linalg.det(c)/delta\n",
    "    miu = np.linalg.det(d)/delta\n",
    "    #相交\n",
    "    if lamb <= 1 and lamb >= 0 and miu >= 0 and miu <= 1:\n",
    "        x = xc + miu*(xd-xc)\n",
    "        y = yc + miu*(yd-yc)\n",
    "        return (x,y)\n",
    "    #相交在延长线上\n",
    "    else:\n",
    "        return None\n",
    "get_crossing(((1,2),(3,4)),((1,4),(2,3)))"
   ]
  },
  {
   "cell_type": "code",
   "execution_count": null,
   "metadata": {},
   "outputs": [],
   "source": []
  },
  {
   "cell_type": "code",
   "execution_count": null,
   "metadata": {},
   "outputs": [],
   "source": []
  },
  {
   "cell_type": "code",
   "execution_count": null,
   "metadata": {},
   "outputs": [],
   "source": []
  },
  {
   "cell_type": "code",
   "execution_count": null,
   "metadata": {},
   "outputs": [],
   "source": []
  },
  {
   "cell_type": "code",
   "execution_count": null,
   "metadata": {},
   "outputs": [],
   "source": []
  }
 ],
 "metadata": {
  "kernelspec": {
   "display_name": "Python 3",
   "language": "python",
   "name": "python3"
  },
  "language_info": {
   "codemirror_mode": {
    "name": "ipython",
    "version": 3
   },
   "file_extension": ".py",
   "mimetype": "text/x-python",
   "name": "python",
   "nbconvert_exporter": "python",
   "pygments_lexer": "ipython3",
   "version": "3.7.3"
  }
 },
 "nbformat": 4,
 "nbformat_minor": 2
}
