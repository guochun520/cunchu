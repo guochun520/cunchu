{
 "cells": [
  {
   "cell_type": "code",
   "execution_count": 1,
   "metadata": {},
   "outputs": [],
   "source": [
    "import os\n",
    "import numpy as np\n",
    "path_test = 'data_set/handwriting/testDigits'\n",
    "path_train = 'data_set/handwriting/trainingDigits'"
   ]
  },
  {
   "cell_type": "code",
   "execution_count": 2,
   "metadata": {},
   "outputs": [
    {
     "name": "stdout",
     "output_type": "stream",
     "text": [
      "(946, 1024) (1934, 1024)\n"
     ]
    }
   ],
   "source": [
    "a = os.listdir(path_test)\n",
    "b = os.listdir(path_train)\n",
    "y = []\n",
    "X = []\n",
    "w = [] \n",
    "Z = []\n",
    "for i in a:\n",
    "    cache_x = []\n",
    "    y.append(i.split('_')[0])\n",
    "    PATH_test = path_test + '/' + i\n",
    "    with open(PATH_test,'r') as f:\n",
    "        lines = f.readlines()\n",
    "        for j in lines:\n",
    "            strip_j = j.strip('\\n')\n",
    "            for k in strip_j:\n",
    "                cache_x.append(k)\n",
    "        X.append(cache_x)\n",
    "for i in b:\n",
    "    cache_x = []\n",
    "    w.append(i.split('_')[0])\n",
    "    PATH_train = path_train + '/' + i\n",
    "    with open(PATH_train,'r') as f:\n",
    "        lines = f.readlines()\n",
    "        for j in lines:\n",
    "            strip_j = j.strip('\\n')\n",
    "            for k in strip_j:\n",
    "                cache_x.append(k)\n",
    "        Z.append(cache_x)\n",
    "X = np.array(X)\n",
    "Z = np.array(Z)\n",
    "print(X.shape,Z.shape)"
   ]
  },
  {
   "cell_type": "code",
   "execution_count": null,
   "metadata": {},
   "outputs": [
    {
     "name": "stdout",
     "output_type": "stream",
     "text": [
      "[['0' '0' '0' ... '0' '0' '0']\n",
      " ['0' '0' '0' ... '0' '0' '0']\n",
      " ['0' '0' '0' ... '0' '0' '0']\n",
      " ...\n",
      " ['0' '0' '0' ... '0' '0' '0']\n",
      " ['0' '0' '0' ... '0' '0' '0']\n",
      " ['0' '0' '0' ... '0' '0' '0']]\n"
     ]
    }
   ],
   "source": [
    "print(X)"
   ]
  },
  {
   "cell_type": "code",
   "execution_count": null,
   "metadata": {},
   "outputs": [],
   "source": [
    "from sklearn.model_selection import train_test_split"
   ]
  },
  {
   "cell_type": "code",
   "execution_count": null,
   "metadata": {},
   "outputs": [],
   "source": [
    "X_train, X_test, y_train, y_test = train_test_split(X,y,test_size = 0.2)"
   ]
  },
  {
   "cell_type": "code",
   "execution_count": null,
   "metadata": {},
   "outputs": [],
   "source": [
    "X_train.shape"
   ]
  },
  {
   "cell_type": "code",
   "execution_count": null,
   "metadata": {},
   "outputs": [],
   "source": [
    "y_train.shape"
   ]
  },
  {
   "cell_type": "code",
   "execution_count": null,
   "metadata": {},
   "outputs": [],
   "source": [
    "def KNN(X,y,test_X,test_y,K):\n",
    "\n",
    "    PREDICT_y = []\n",
    "    for i in range(test_X.shape[0]):\n",
    "        D = np.sum((X - test_X[i])**2,axis = 1)**0.5\n",
    "        sort_D = np.argsort(D)[:K]\n",
    "        aaa = y[sort_D]\n",
    "        \n",
    "        bbb = {}\n",
    "        for i in aaa:\n",
    "            if i not in bbb.keys():\n",
    "                bbb[i] = 1\n",
    "            else:\n",
    "                bbb[i] += 1\n",
    "                \n",
    "        ccc = 0\n",
    "        predict_y = []\n",
    "        for key,value in bbb.items():\n",
    "            if value > ccc:\n",
    "                ccc = value\n",
    "                predict_y.append(key)\n",
    "        PREDICT_y.append(predict_y[-1])\n",
    "        \n",
    "    PREDICT_y = np.array(PREDICT_y)\n",
    "    \n",
    "    ######### accuracy ########\n",
    "    accuracy = np.sum(PREDICT_y == test_y) / test_X.shape[0]\n",
    "    print(accuracy)"
   ]
  },
  {
   "cell_type": "code",
   "execution_count": null,
   "metadata": {},
   "outputs": [],
   "source": [
    "KNN(train_X,train_y,test_X,test_y,5)"
   ]
  },
  {
   "cell_type": "code",
   "execution_count": null,
   "metadata": {},
   "outputs": [],
   "source": []
  }
 ],
 "metadata": {
  "kernelspec": {
   "display_name": "Python 3",
   "language": "python",
   "name": "python3"
  },
  "language_info": {
   "codemirror_mode": {
    "name": "ipython",
    "version": 3
   },
   "file_extension": ".py",
   "mimetype": "text/x-python",
   "name": "python",
   "nbconvert_exporter": "python",
   "pygments_lexer": "ipython3",
   "version": "3.6.4"
  }
 },
 "nbformat": 4,
 "nbformat_minor": 2
}
