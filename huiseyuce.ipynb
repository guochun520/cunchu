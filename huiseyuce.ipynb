{
 "cells": [
  {
   "cell_type": "code",
   "execution_count": 17,
   "metadata": {},
   "outputs": [],
   "source": [
    "import pandas as pd\n",
    "import numpy as np\n",
    "\n",
    "%matplotlib inline\n",
    "import matplotlib.pyplot as plt\n",
    "import matplotlib\n",
    "matplotlib.rcParams['font.sans-serif'] = ['FangSong'] # 指定默认字体\n",
    "matplotlib.rcParams['axes.unicode_minus'] = False # 解决保存图像是负号'-'显示为方块的问题"
   ]
  },
  {
   "cell_type": "code",
   "execution_count": 18,
   "metadata": {},
   "outputs": [],
   "source": [
    "# #建立框架：\n",
    "# class GrayForecast():\n",
    "# #初始化\n",
    "#     def __init__(self, data, datacolumn=None):\n",
    "#             pass\n",
    "# #级比校验\n",
    "#     def level_check(self):\n",
    "#         pass\n",
    "# #GM(1,1)建模\n",
    "#     def GM_11_build_model(self, forecast=5):\n",
    "#         pass\n",
    "# #预测\n",
    "#     def forecast(self, time=5, forecast_data_len=5):\n",
    "#         pass\n",
    "# #打印日志\n",
    "#     def log(self):\n",
    "#         pass\n",
    "# #重置\n",
    "#     def reset(self):\n",
    "#         pass\n",
    "# #作图\n",
    "#     def plot(self):\n",
    "#         pass"
   ]
  },
  {
   "cell_type": "code",
   "execution_count": 20,
   "metadata": {},
   "outputs": [],
   "source": [
    "class GrayForecast():\n",
    "    def __init__(self, data, datacolumn=None):\n",
    "\n",
    "        if isinstance(data, pd.core.frame.DataFrame):\n",
    "            self.data=data\n",
    "            try:\n",
    "                self.data.columns = ['数据']\n",
    "            except:\n",
    "                if not datacolumn:\n",
    "                    raise Exception('您传入的dataframe不止一列')\n",
    "                else:\n",
    "                    self.data = pd.DataFrame(data[datacolumn])\n",
    "                    self.data.columns=['数据']\n",
    "        elif isinstance(data, pd.core.series.Series):\n",
    "            self.data = pd.DataFrame(data, columns=['数据'])\n",
    "        else:\n",
    "            self.data = pd.DataFrame(data, columns=['数据'])\n",
    "\n",
    "        self.forecast_list = self.data.copy()\n",
    "\n",
    "        if datacolumn:\n",
    "            self.datacolumn = datacolumn\n",
    "        else:\n",
    "            self.datacolumn = None\n",
    "        #save arg:\n",
    "        #        data                DataFrame    数据\n",
    "        #        forecast_list       DataFrame    预测序列\n",
    "        #        datacolumn          string       数据的含义"
   ]
  },
  {
   "cell_type": "code",
   "execution_count": 21,
   "metadata": {},
   "outputs": [],
   "source": [
    "def level_check(self):\n",
    "    # 数据级比校验\n",
    "    n = len(self.data)\n",
    "    lambda_k = np.zeros(n-1)\n",
    "    for i in range(n-1):\n",
    "        lambda_k[i] = self.data.ix[i][\"数据\"]/self.data.ix[i+1][\"数据\"]\n",
    "        if lambda_k[i] < np.exp(-2/(n+1)) or lambda_k[i] > np.exp(2/(n+2)):\n",
    "            flag = False\n",
    "    else:\n",
    "        flag = True\n",
    "\n",
    "    self.lambda_k = lambda_k\n",
    "\n",
    "    if not flag:\n",
    "        print(\"级比校验失败，请对X(0)做平移变换\")\n",
    "        return False\n",
    "    else:\n",
    "        print(\"级比校验成功，请继续\")\n",
    "        return True\n",
    "\n",
    "#save arg:\n",
    "#        lambda_k            1-d list"
   ]
  },
  {
   "cell_type": "code",
   "execution_count": 22,
   "metadata": {},
   "outputs": [],
   "source": [
    "def GM_11_build_model(self, forecast=5):\n",
    "    if forecast > len(self.data):\n",
    "        raise Exception('您的数据行不够')\n",
    "    X_0 = np.array(self.forecast_list['数据'].tail(forecast))\n",
    "#       1-AGO\n",
    "    X_1 = np.zeros(X_0.shape)\n",
    "    for i in range(X_0.shape[0]):\n",
    "        X_1[i] = np.sum(X_0[0:i+1])\n",
    "#       紧邻均值生成序列\n",
    "    Z_1 = np.zeros(X_1.shape[0]-1)\n",
    "    for i in range(1, X_1.shape[0]):\n",
    "        Z_1[i-1] = -0.5*(X_1[i]+X_1[i-1])\n",
    "\n",
    "    B = np.append(np.array(np.mat(Z_1).T), np.ones(Z_1.shape).reshape((Z_1.shape[0], 1)), axis=1)\n",
    "    Yn = X_0[1:].reshape((X_0[1:].shape[0], 1))\n",
    "\n",
    "    B = np.mat(B)\n",
    "    Yn = np.mat(Yn)\n",
    "    a_ = (B.T*B)**-1 * B.T * Yn\n",
    "\n",
    "    a, b = np.array(a_.T)[0]\n",
    "\n",
    "    X_ = np.zeros(X_0.shape[0])\n",
    "    def f(k):\n",
    "        return (X_0[0]-b/a)*(1-np.exp(a))*np.exp(-a*(k))\n",
    "\n",
    "    self.forecast_list.loc[len(self.forecast_list)] = f(X_.shape[0])"
   ]
  },
  {
   "cell_type": "code",
   "execution_count": 23,
   "metadata": {},
   "outputs": [],
   "source": [
    "def forecast(self, time=5, forecast_data_len=5):\n",
    "    for i in range(time):\n",
    "        self.GM_11_build_model(forecast=forecast_data_len)"
   ]
  },
  {
   "cell_type": "code",
   "execution_count": 24,
   "metadata": {},
   "outputs": [],
   "source": [
    "def log(self):\n",
    "    res = self.forecast_list.copy()\n",
    "    if self.datacolumn:\n",
    "        res.columns = [self.datacolumn]\n",
    "    return res"
   ]
  },
  {
   "cell_type": "code",
   "execution_count": 25,
   "metadata": {},
   "outputs": [],
   "source": [
    "def reset(self):\n",
    "    self.forecast_list = self.data.copy()"
   ]
  },
  {
   "cell_type": "code",
   "execution_count": 26,
   "metadata": {},
   "outputs": [],
   "source": [
    "def plot(self):\n",
    "    self.forecast_list.plot()\n",
    "    if self.datacolumn:\n",
    "        plt.ylabel(self.datacolumn)\n",
    "        plt.legend([self.datacolumn])"
   ]
  },
  {
   "cell_type": "code",
   "execution_count": 66,
   "metadata": {},
   "outputs": [],
   "source": [
    "电影票房=[[2007,33.27],[2008,43.41],[2009,62.06]]\n",
    "labels=[\"年份\",\"票房\"]"
   ]
  },
  {
   "cell_type": "code",
   "execution_count": 64,
   "metadata": {},
   "outputs": [
    {
     "ename": "FileNotFoundError",
     "evalue": "[Errno 2] No such file or directory: '电影票房.csv'",
     "output_type": "error",
     "traceback": [
      "\u001b[1;31m---------------------------------------------------------------------------\u001b[0m",
      "\u001b[1;31mFileNotFoundError\u001b[0m                         Traceback (most recent call last)",
      "\u001b[1;32m<ipython-input-64-8005c446b033>\u001b[0m in \u001b[0;36m<module>\u001b[1;34m\u001b[0m\n\u001b[1;32m----> 1\u001b[1;33m \u001b[0mf\u001b[0m \u001b[1;33m=\u001b[0m \u001b[0mopen\u001b[0m\u001b[1;33m(\u001b[0m\u001b[1;34m\"电影票房.csv\"\u001b[0m\u001b[1;33m,\u001b[0m \u001b[0mencoding\u001b[0m\u001b[1;33m=\u001b[0m\u001b[1;34m\"utf8\"\u001b[0m\u001b[1;33m)\u001b[0m\u001b[1;33m\u001b[0m\u001b[1;33m\u001b[0m\u001b[0m\n\u001b[0m\u001b[0;32m      2\u001b[0m \u001b[0mdf\u001b[0m \u001b[1;33m=\u001b[0m \u001b[0mpd\u001b[0m\u001b[1;33m.\u001b[0m\u001b[0mread_csv\u001b[0m\u001b[1;33m(\u001b[0m\u001b[0mf\u001b[0m\u001b[1;33m)\u001b[0m\u001b[1;33m\u001b[0m\u001b[1;33m\u001b[0m\u001b[0m\n\u001b[0;32m      3\u001b[0m \u001b[0mdf\u001b[0m\u001b[1;33m.\u001b[0m\u001b[0mtail\u001b[0m\u001b[1;33m(\u001b[0m\u001b[1;33m)\u001b[0m\u001b[1;33m\u001b[0m\u001b[1;33m\u001b[0m\u001b[0m\n",
      "\u001b[1;31mFileNotFoundError\u001b[0m: [Errno 2] No such file or directory: '电影票房.csv'"
     ]
    }
   ],
   "source": [
    "f = open(\"电影票房.csv\", encoding=\"utf8\")\n",
    "df = pd.read_csv(f)\n",
    "df.tail()"
   ]
  },
  {
   "cell_type": "code",
   "execution_count": 54,
   "metadata": {},
   "outputs": [
    {
     "ename": "NameError",
     "evalue": "name 'df' is not defined",
     "output_type": "error",
     "traceback": [
      "\u001b[1;31m---------------------------------------------------------------------------\u001b[0m",
      "\u001b[1;31mNameError\u001b[0m                                 Traceback (most recent call last)",
      "\u001b[1;32m<ipython-input-54-70a0f25a8125>\u001b[0m in \u001b[0;36m<module>\u001b[1;34m\u001b[0m\n\u001b[1;32m----> 1\u001b[1;33m \u001b[0mgf\u001b[0m \u001b[1;33m=\u001b[0m \u001b[0mGrayForecast\u001b[0m\u001b[1;33m(\u001b[0m\u001b[0mdf\u001b[0m\u001b[1;33m,\u001b[0m \u001b[1;34m'票房'\u001b[0m\u001b[1;33m)\u001b[0m\u001b[1;33m\u001b[0m\u001b[1;33m\u001b[0m\u001b[0m\n\u001b[0m\u001b[0;32m      2\u001b[0m \u001b[0mgf\u001b[0m\u001b[1;33m.\u001b[0m\u001b[0mforecast\u001b[0m\u001b[1;33m(\u001b[0m\u001b[1;36m10\u001b[0m\u001b[1;33m)\u001b[0m\u001b[1;33m\u001b[0m\u001b[1;33m\u001b[0m\u001b[0m\n\u001b[0;32m      3\u001b[0m \u001b[0mgf\u001b[0m\u001b[1;33m.\u001b[0m\u001b[0mlog\u001b[0m\u001b[1;33m(\u001b[0m\u001b[1;33m)\u001b[0m\u001b[1;33m\u001b[0m\u001b[1;33m\u001b[0m\u001b[0m\n",
      "\u001b[1;31mNameError\u001b[0m: name 'df' is not defined"
     ]
    }
   ],
   "source": [
    "gf = GrayForecast(df, '票房')\n",
    "gf.forecast(10)\n",
    "gf.log()"
   ]
  },
  {
   "cell_type": "code",
   "execution_count": 48,
   "metadata": {},
   "outputs": [
    {
     "ename": "NameError",
     "evalue": "name 'gf' is not defined",
     "output_type": "error",
     "traceback": [
      "\u001b[1;31m---------------------------------------------------------------------------\u001b[0m",
      "\u001b[1;31mNameError\u001b[0m                                 Traceback (most recent call last)",
      "\u001b[1;32m<ipython-input-48-819d5f96ba5a>\u001b[0m in \u001b[0;36m<module>\u001b[1;34m\u001b[0m\n\u001b[1;32m----> 1\u001b[1;33m \u001b[0mgf\u001b[0m\u001b[1;33m.\u001b[0m\u001b[0mplot\u001b[0m\u001b[1;33m(\u001b[0m\u001b[1;33m)\u001b[0m\u001b[1;33m\u001b[0m\u001b[1;33m\u001b[0m\u001b[0m\n\u001b[0m",
      "\u001b[1;31mNameError\u001b[0m: name 'gf' is not defined"
     ]
    }
   ],
   "source": [
    "gf.plot()"
   ]
  },
  {
   "cell_type": "code",
   "execution_count": null,
   "metadata": {},
   "outputs": [],
   "source": []
  }
 ],
 "metadata": {
  "kernelspec": {
   "display_name": "Python 3",
   "language": "python",
   "name": "python3"
  },
  "language_info": {
   "codemirror_mode": {
    "name": "ipython",
    "version": 3
   },
   "file_extension": ".py",
   "mimetype": "text/x-python",
   "name": "python",
   "nbconvert_exporter": "python",
   "pygments_lexer": "ipython3",
   "version": "3.7.3"
  }
 },
 "nbformat": 4,
 "nbformat_minor": 2
}
